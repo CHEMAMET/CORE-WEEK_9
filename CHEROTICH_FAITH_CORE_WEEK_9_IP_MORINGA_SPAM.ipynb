{
  "nbformat": 4,
  "nbformat_minor": 0,
  "metadata": {
    "colab": {
      "name": "CHEROTICH FAITH_CORE_WEEK 9 IP_MORINGA.ipynb",
      "provenance": [],
      "collapsed_sections": []
    },
    "kernelspec": {
      "name": "python3",
      "display_name": "Python 3"
    },
    "language_info": {
      "name": "python"
    }
  },
  "cells": [
    {
      "cell_type": "markdown",
      "source": [
        "# **1. INTRODUCTION**"
      ],
      "metadata": {
        "id": "bSwy2DWIIoIx"
      }
    },
    {
      "cell_type": "markdown",
      "source": [
        "# a. Defining the question"
      ],
      "metadata": {
        "id": "OXAFDZeNIrck"
      }
    },
    {
      "cell_type": "markdown",
      "source": [
        "Predict whether the chance of an email sent is spam or not"
      ],
      "metadata": {
        "id": "n-nlJLxraHCl"
      }
    },
    {
      "cell_type": "markdown",
      "source": [
        "# b. Defining the Metric for success"
      ],
      "metadata": {
        "id": "Q9BYgdJLIn_I"
      }
    },
    {
      "cell_type": "markdown",
      "source": [
        "Our model would be considered a success if it is able to compute an accuracy score of at least 80%."
      ],
      "metadata": {
        "id": "HafM68XHaS70"
      }
    },
    {
      "cell_type": "markdown",
      "source": [
        "# c. Understanding the context"
      ],
      "metadata": {
        "id": "tSHk3dyIIn2a"
      }
    },
    {
      "cell_type": "markdown",
      "source": [
        "This dataset is from UCI machine learning repository, and we're going to use it to classiy whether an email is spam or not. Source:\n",
        "\n",
        "Creators: Mark Hopkins, Erik Reeber, George Forman, Jaap Suermondt\n",
        "\n",
        "Hewlett-Packard Labs, 1501 Page Mill Rd., Palo Alto, CA 94304\n",
        "\n",
        "Donor: George Forman (gforman at nospam hpl.hp.com) 650-857-7835\n",
        "\n",
        "Generated: June-July 1999\n",
        "\n",
        "It has previously been used for determining whether an email is spam or not, which means that this data is relevant and sufficient for this analysis.\n",
        "\n",
        "Data description: The first 54 features (continuous, real [0,100] indicate the percent of words in an email matching a particular word (any string of alphanumeric characters bounded by non-alphanumeric characters or end-of-string) or character. The run-length attributes (55-57) measure the length of sequences of consecutive capital letters (continuous real/integer [1,...]. The last attribute (nominal {0,1} class) denotes whether the e-mail was considered spam (1) or not (0).\n",
        "\n",
        "The data provided is a csv file with two accompanying text documentation files."
      ],
      "metadata": {
        "id": "PYX4ZAYSZ-w5"
      }
    },
    {
      "cell_type": "markdown",
      "source": [
        "# d. Data Relevance"
      ],
      "metadata": {
        "id": "dvY4Qp0gInsb"
      }
    },
    {
      "cell_type": "markdown",
      "source": [
        "This can be used by companies that do advertising in order to know on ow to send the emails and not always fall on the spam which atimes could go unviwed."
      ],
      "metadata": {
        "id": "85pucCTkaaML"
      }
    },
    {
      "cell_type": "markdown",
      "source": [
        "# e. Recording the Experimental Design"
      ],
      "metadata": {
        "id": "Ho5mEWx5Inhs"
      }
    },
    {
      "cell_type": "markdown",
      "source": [
        "a) Business Understanding\n",
        "\n",
        "b) Data Understanding\n",
        "\n",
        "c) Data Cleaning\n",
        "\n",
        "d) EDA\n",
        "\n",
        "e) Modeling\n",
        "\n",
        "f) Evaluation"
      ],
      "metadata": {
        "id": "gOAAjQusJCQu"
      }
    },
    {
      "cell_type": "markdown",
      "source": [
        "# **2. DATA UNDERSTANDING**"
      ],
      "metadata": {
        "id": "7Qf66vGfInV9"
      }
    },
    {
      "cell_type": "markdown",
      "source": [
        "# Reading the dataset"
      ],
      "metadata": {
        "id": "2uq_-HAQJLF9"
      }
    },
    {
      "cell_type": "code",
      "execution_count": 1,
      "metadata": {
        "id": "2fF9PYFfHqHa"
      },
      "outputs": [],
      "source": [
        "# Importing the necessary libaries\n",
        "import pandas as pd\n",
        "import numpy as np\n",
        "from matplotlib import pyplot as plt\n",
        "%matplotlib inline\n",
        "import seaborn as sns\n",
        "\n",
        "import warnings \n",
        "warnings.filterwarnings('ignore')"
      ]
    },
    {
      "cell_type": "code",
      "source": [
        "\n",
        "# Defining the column names\n",
        "col_list=['word_freq_make', 'word_freq_address', 'word_freq_all', 'word_freq_3d', 'word_freq_our',\n",
        "'word_freq_over', 'word_freq_remove', 'word_freq_internet', 'word_freq_order', 'word_freq_mail',\n",
        "'word_freq_receive','word_freq_will','word_freq_people','word_freq_report','word_freq_addresses',\n",
        "'word_freq_free','word_freq_business','word_freq_email','word_freq_you','word_freq_credit','word_freq_your',\n",
        "'word_freq_font','word_freq_000','word_freq_money','word_freq_hp','word_freq_hpl','word_freq_george',\n",
        "'word_freq_650','word_freq_lab','word_freq_labs','word_freq_telnet','word_freq_857','word_freq_data',\n",
        "'word_freq_415','word_freq_85','word_freq_technology','word_freq_1999','word_freq_parts','word_freq_pm',\n",
        "'word_freq_direct','word_freq_cs','word_freq_meeting','word_freq_original','word_freq_project',\n",
        "'word_freq_re','word_freq_edu','word_freq_table','word_freq_conference','char_freq_;','char_freq_(',\n",
        "'char_freq_[','char_freq_exclamation','char_freq_dollar','char_freq_hashtag','capital_run_length_average',\n",
        "'capital_run_length_longest','capital_run_length_total','spam']\n",
        "\n",
        "spam=pd.read_csv('spambase.data', names=col_list)\n",
        "spam.head()"
      ],
      "metadata": {
        "colab": {
          "base_uri": "https://localhost:8080/",
          "height": 300
        },
        "id": "dVZVotcIKSk5",
        "outputId": "943d7f93-1e45-499a-ec68-85ffbfbb7fb2"
      },
      "execution_count": 6,
      "outputs": [
        {
          "output_type": "execute_result",
          "data": {
            "text/plain": [
              "   word_freq_make  word_freq_address  word_freq_all  word_freq_3d  \\\n",
              "0            0.00               0.64           0.64           0.0   \n",
              "1            0.21               0.28           0.50           0.0   \n",
              "2            0.06               0.00           0.71           0.0   \n",
              "3            0.00               0.00           0.00           0.0   \n",
              "4            0.00               0.00           0.00           0.0   \n",
              "\n",
              "   word_freq_our  word_freq_over  word_freq_remove  word_freq_internet  \\\n",
              "0           0.32            0.00              0.00                0.00   \n",
              "1           0.14            0.28              0.21                0.07   \n",
              "2           1.23            0.19              0.19                0.12   \n",
              "3           0.63            0.00              0.31                0.63   \n",
              "4           0.63            0.00              0.31                0.63   \n",
              "\n",
              "   word_freq_order  word_freq_mail  ...  char_freq_;  char_freq_(  \\\n",
              "0             0.00            0.00  ...         0.00        0.000   \n",
              "1             0.00            0.94  ...         0.00        0.132   \n",
              "2             0.64            0.25  ...         0.01        0.143   \n",
              "3             0.31            0.63  ...         0.00        0.137   \n",
              "4             0.31            0.63  ...         0.00        0.135   \n",
              "\n",
              "   char_freq_[  char_freq_exclamation  char_freq_dollar  char_freq_hashtag  \\\n",
              "0          0.0                  0.778             0.000              0.000   \n",
              "1          0.0                  0.372             0.180              0.048   \n",
              "2          0.0                  0.276             0.184              0.010   \n",
              "3          0.0                  0.137             0.000              0.000   \n",
              "4          0.0                  0.135             0.000              0.000   \n",
              "\n",
              "   capital_run_length_average  capital_run_length_longest  \\\n",
              "0                       3.756                          61   \n",
              "1                       5.114                         101   \n",
              "2                       9.821                         485   \n",
              "3                       3.537                          40   \n",
              "4                       3.537                          40   \n",
              "\n",
              "   capital_run_length_total  spam  \n",
              "0                       278     1  \n",
              "1                      1028     1  \n",
              "2                      2259     1  \n",
              "3                       191     1  \n",
              "4                       191     1  \n",
              "\n",
              "[5 rows x 58 columns]"
            ],
            "text/html": [
              "\n",
              "  <div id=\"df-3c6b1a80-2ea8-4dc2-8f2c-1cbe3bd6e24f\">\n",
              "    <div class=\"colab-df-container\">\n",
              "      <div>\n",
              "<style scoped>\n",
              "    .dataframe tbody tr th:only-of-type {\n",
              "        vertical-align: middle;\n",
              "    }\n",
              "\n",
              "    .dataframe tbody tr th {\n",
              "        vertical-align: top;\n",
              "    }\n",
              "\n",
              "    .dataframe thead th {\n",
              "        text-align: right;\n",
              "    }\n",
              "</style>\n",
              "<table border=\"1\" class=\"dataframe\">\n",
              "  <thead>\n",
              "    <tr style=\"text-align: right;\">\n",
              "      <th></th>\n",
              "      <th>word_freq_make</th>\n",
              "      <th>word_freq_address</th>\n",
              "      <th>word_freq_all</th>\n",
              "      <th>word_freq_3d</th>\n",
              "      <th>word_freq_our</th>\n",
              "      <th>word_freq_over</th>\n",
              "      <th>word_freq_remove</th>\n",
              "      <th>word_freq_internet</th>\n",
              "      <th>word_freq_order</th>\n",
              "      <th>word_freq_mail</th>\n",
              "      <th>...</th>\n",
              "      <th>char_freq_;</th>\n",
              "      <th>char_freq_(</th>\n",
              "      <th>char_freq_[</th>\n",
              "      <th>char_freq_exclamation</th>\n",
              "      <th>char_freq_dollar</th>\n",
              "      <th>char_freq_hashtag</th>\n",
              "      <th>capital_run_length_average</th>\n",
              "      <th>capital_run_length_longest</th>\n",
              "      <th>capital_run_length_total</th>\n",
              "      <th>spam</th>\n",
              "    </tr>\n",
              "  </thead>\n",
              "  <tbody>\n",
              "    <tr>\n",
              "      <th>0</th>\n",
              "      <td>0.00</td>\n",
              "      <td>0.64</td>\n",
              "      <td>0.64</td>\n",
              "      <td>0.0</td>\n",
              "      <td>0.32</td>\n",
              "      <td>0.00</td>\n",
              "      <td>0.00</td>\n",
              "      <td>0.00</td>\n",
              "      <td>0.00</td>\n",
              "      <td>0.00</td>\n",
              "      <td>...</td>\n",
              "      <td>0.00</td>\n",
              "      <td>0.000</td>\n",
              "      <td>0.0</td>\n",
              "      <td>0.778</td>\n",
              "      <td>0.000</td>\n",
              "      <td>0.000</td>\n",
              "      <td>3.756</td>\n",
              "      <td>61</td>\n",
              "      <td>278</td>\n",
              "      <td>1</td>\n",
              "    </tr>\n",
              "    <tr>\n",
              "      <th>1</th>\n",
              "      <td>0.21</td>\n",
              "      <td>0.28</td>\n",
              "      <td>0.50</td>\n",
              "      <td>0.0</td>\n",
              "      <td>0.14</td>\n",
              "      <td>0.28</td>\n",
              "      <td>0.21</td>\n",
              "      <td>0.07</td>\n",
              "      <td>0.00</td>\n",
              "      <td>0.94</td>\n",
              "      <td>...</td>\n",
              "      <td>0.00</td>\n",
              "      <td>0.132</td>\n",
              "      <td>0.0</td>\n",
              "      <td>0.372</td>\n",
              "      <td>0.180</td>\n",
              "      <td>0.048</td>\n",
              "      <td>5.114</td>\n",
              "      <td>101</td>\n",
              "      <td>1028</td>\n",
              "      <td>1</td>\n",
              "    </tr>\n",
              "    <tr>\n",
              "      <th>2</th>\n",
              "      <td>0.06</td>\n",
              "      <td>0.00</td>\n",
              "      <td>0.71</td>\n",
              "      <td>0.0</td>\n",
              "      <td>1.23</td>\n",
              "      <td>0.19</td>\n",
              "      <td>0.19</td>\n",
              "      <td>0.12</td>\n",
              "      <td>0.64</td>\n",
              "      <td>0.25</td>\n",
              "      <td>...</td>\n",
              "      <td>0.01</td>\n",
              "      <td>0.143</td>\n",
              "      <td>0.0</td>\n",
              "      <td>0.276</td>\n",
              "      <td>0.184</td>\n",
              "      <td>0.010</td>\n",
              "      <td>9.821</td>\n",
              "      <td>485</td>\n",
              "      <td>2259</td>\n",
              "      <td>1</td>\n",
              "    </tr>\n",
              "    <tr>\n",
              "      <th>3</th>\n",
              "      <td>0.00</td>\n",
              "      <td>0.00</td>\n",
              "      <td>0.00</td>\n",
              "      <td>0.0</td>\n",
              "      <td>0.63</td>\n",
              "      <td>0.00</td>\n",
              "      <td>0.31</td>\n",
              "      <td>0.63</td>\n",
              "      <td>0.31</td>\n",
              "      <td>0.63</td>\n",
              "      <td>...</td>\n",
              "      <td>0.00</td>\n",
              "      <td>0.137</td>\n",
              "      <td>0.0</td>\n",
              "      <td>0.137</td>\n",
              "      <td>0.000</td>\n",
              "      <td>0.000</td>\n",
              "      <td>3.537</td>\n",
              "      <td>40</td>\n",
              "      <td>191</td>\n",
              "      <td>1</td>\n",
              "    </tr>\n",
              "    <tr>\n",
              "      <th>4</th>\n",
              "      <td>0.00</td>\n",
              "      <td>0.00</td>\n",
              "      <td>0.00</td>\n",
              "      <td>0.0</td>\n",
              "      <td>0.63</td>\n",
              "      <td>0.00</td>\n",
              "      <td>0.31</td>\n",
              "      <td>0.63</td>\n",
              "      <td>0.31</td>\n",
              "      <td>0.63</td>\n",
              "      <td>...</td>\n",
              "      <td>0.00</td>\n",
              "      <td>0.135</td>\n",
              "      <td>0.0</td>\n",
              "      <td>0.135</td>\n",
              "      <td>0.000</td>\n",
              "      <td>0.000</td>\n",
              "      <td>3.537</td>\n",
              "      <td>40</td>\n",
              "      <td>191</td>\n",
              "      <td>1</td>\n",
              "    </tr>\n",
              "  </tbody>\n",
              "</table>\n",
              "<p>5 rows × 58 columns</p>\n",
              "</div>\n",
              "      <button class=\"colab-df-convert\" onclick=\"convertToInteractive('df-3c6b1a80-2ea8-4dc2-8f2c-1cbe3bd6e24f')\"\n",
              "              title=\"Convert this dataframe to an interactive table.\"\n",
              "              style=\"display:none;\">\n",
              "        \n",
              "  <svg xmlns=\"http://www.w3.org/2000/svg\" height=\"24px\"viewBox=\"0 0 24 24\"\n",
              "       width=\"24px\">\n",
              "    <path d=\"M0 0h24v24H0V0z\" fill=\"none\"/>\n",
              "    <path d=\"M18.56 5.44l.94 2.06.94-2.06 2.06-.94-2.06-.94-.94-2.06-.94 2.06-2.06.94zm-11 1L8.5 8.5l.94-2.06 2.06-.94-2.06-.94L8.5 2.5l-.94 2.06-2.06.94zm10 10l.94 2.06.94-2.06 2.06-.94-2.06-.94-.94-2.06-.94 2.06-2.06.94z\"/><path d=\"M17.41 7.96l-1.37-1.37c-.4-.4-.92-.59-1.43-.59-.52 0-1.04.2-1.43.59L10.3 9.45l-7.72 7.72c-.78.78-.78 2.05 0 2.83L4 21.41c.39.39.9.59 1.41.59.51 0 1.02-.2 1.41-.59l7.78-7.78 2.81-2.81c.8-.78.8-2.07 0-2.86zM5.41 20L4 18.59l7.72-7.72 1.47 1.35L5.41 20z\"/>\n",
              "  </svg>\n",
              "      </button>\n",
              "      \n",
              "  <style>\n",
              "    .colab-df-container {\n",
              "      display:flex;\n",
              "      flex-wrap:wrap;\n",
              "      gap: 12px;\n",
              "    }\n",
              "\n",
              "    .colab-df-convert {\n",
              "      background-color: #E8F0FE;\n",
              "      border: none;\n",
              "      border-radius: 50%;\n",
              "      cursor: pointer;\n",
              "      display: none;\n",
              "      fill: #1967D2;\n",
              "      height: 32px;\n",
              "      padding: 0 0 0 0;\n",
              "      width: 32px;\n",
              "    }\n",
              "\n",
              "    .colab-df-convert:hover {\n",
              "      background-color: #E2EBFA;\n",
              "      box-shadow: 0px 1px 2px rgba(60, 64, 67, 0.3), 0px 1px 3px 1px rgba(60, 64, 67, 0.15);\n",
              "      fill: #174EA6;\n",
              "    }\n",
              "\n",
              "    [theme=dark] .colab-df-convert {\n",
              "      background-color: #3B4455;\n",
              "      fill: #D2E3FC;\n",
              "    }\n",
              "\n",
              "    [theme=dark] .colab-df-convert:hover {\n",
              "      background-color: #434B5C;\n",
              "      box-shadow: 0px 1px 3px 1px rgba(0, 0, 0, 0.15);\n",
              "      filter: drop-shadow(0px 1px 2px rgba(0, 0, 0, 0.3));\n",
              "      fill: #FFFFFF;\n",
              "    }\n",
              "  </style>\n",
              "\n",
              "      <script>\n",
              "        const buttonEl =\n",
              "          document.querySelector('#df-3c6b1a80-2ea8-4dc2-8f2c-1cbe3bd6e24f button.colab-df-convert');\n",
              "        buttonEl.style.display =\n",
              "          google.colab.kernel.accessAllowed ? 'block' : 'none';\n",
              "\n",
              "        async function convertToInteractive(key) {\n",
              "          const element = document.querySelector('#df-3c6b1a80-2ea8-4dc2-8f2c-1cbe3bd6e24f');\n",
              "          const dataTable =\n",
              "            await google.colab.kernel.invokeFunction('convertToInteractive',\n",
              "                                                     [key], {});\n",
              "          if (!dataTable) return;\n",
              "\n",
              "          const docLinkHtml = 'Like what you see? Visit the ' +\n",
              "            '<a target=\"_blank\" href=https://colab.research.google.com/notebooks/data_table.ipynb>data table notebook</a>'\n",
              "            + ' to learn more about interactive tables.';\n",
              "          element.innerHTML = '';\n",
              "          dataTable['output_type'] = 'display_data';\n",
              "          await google.colab.output.renderOutput(dataTable, element);\n",
              "          const docLink = document.createElement('div');\n",
              "          docLink.innerHTML = docLinkHtml;\n",
              "          element.appendChild(docLink);\n",
              "        }\n",
              "      </script>\n",
              "    </div>\n",
              "  </div>\n",
              "  "
            ]
          },
          "metadata": {},
          "execution_count": 6
        }
      ]
    },
    {
      "cell_type": "markdown",
      "source": [
        "# Checking the Data"
      ],
      "metadata": {
        "id": "-gjFFfDzLjmh"
      }
    },
    {
      "cell_type": "code",
      "source": [
        "# Let's preview the shape of our dataset\n",
        "print('The spambase dataset has '+str(spam.shape))"
      ],
      "metadata": {
        "colab": {
          "base_uri": "https://localhost:8080/"
        },
        "id": "jhNc-ZdALimX",
        "outputId": "1cc949c3-9180-4d48-f718-e1c826d1edc1"
      },
      "execution_count": 7,
      "outputs": [
        {
          "output_type": "stream",
          "name": "stdout",
          "text": [
            "The spambase dataset has (4601, 58)\n"
          ]
        }
      ]
    },
    {
      "cell_type": "code",
      "source": [
        "# we also need to preview the datatypes of our dataset\n",
        "spam.dtypes"
      ],
      "metadata": {
        "colab": {
          "base_uri": "https://localhost:8080/"
        },
        "id": "ypmACkQAMHei",
        "outputId": "902014bd-8b9f-47e6-cfd8-7039e2c5da15"
      },
      "execution_count": 8,
      "outputs": [
        {
          "output_type": "execute_result",
          "data": {
            "text/plain": [
              "word_freq_make                float64\n",
              "word_freq_address             float64\n",
              "word_freq_all                 float64\n",
              "word_freq_3d                  float64\n",
              "word_freq_our                 float64\n",
              "word_freq_over                float64\n",
              "word_freq_remove              float64\n",
              "word_freq_internet            float64\n",
              "word_freq_order               float64\n",
              "word_freq_mail                float64\n",
              "word_freq_receive             float64\n",
              "word_freq_will                float64\n",
              "word_freq_people              float64\n",
              "word_freq_report              float64\n",
              "word_freq_addresses           float64\n",
              "word_freq_free                float64\n",
              "word_freq_business            float64\n",
              "word_freq_email               float64\n",
              "word_freq_you                 float64\n",
              "word_freq_credit              float64\n",
              "word_freq_your                float64\n",
              "word_freq_font                float64\n",
              "word_freq_000                 float64\n",
              "word_freq_money               float64\n",
              "word_freq_hp                  float64\n",
              "word_freq_hpl                 float64\n",
              "word_freq_george              float64\n",
              "word_freq_650                 float64\n",
              "word_freq_lab                 float64\n",
              "word_freq_labs                float64\n",
              "word_freq_telnet              float64\n",
              "word_freq_857                 float64\n",
              "word_freq_data                float64\n",
              "word_freq_415                 float64\n",
              "word_freq_85                  float64\n",
              "word_freq_technology          float64\n",
              "word_freq_1999                float64\n",
              "word_freq_parts               float64\n",
              "word_freq_pm                  float64\n",
              "word_freq_direct              float64\n",
              "word_freq_cs                  float64\n",
              "word_freq_meeting             float64\n",
              "word_freq_original            float64\n",
              "word_freq_project             float64\n",
              "word_freq_re                  float64\n",
              "word_freq_edu                 float64\n",
              "word_freq_table               float64\n",
              "word_freq_conference          float64\n",
              "char_freq_;                   float64\n",
              "char_freq_(                   float64\n",
              "char_freq_[                   float64\n",
              "char_freq_exclamation         float64\n",
              "char_freq_dollar              float64\n",
              "char_freq_hashtag             float64\n",
              "capital_run_length_average    float64\n",
              "capital_run_length_longest      int64\n",
              "capital_run_length_total        int64\n",
              "spam                            int64\n",
              "dtype: object"
            ]
          },
          "metadata": {},
          "execution_count": 8
        }
      ]
    },
    {
      "cell_type": "markdown",
      "source": [
        "Apart from the last three columns with integers, all others have floating data types"
      ],
      "metadata": {
        "id": "Uf_1UvoeMlnq"
      }
    },
    {
      "cell_type": "code",
      "source": [
        "# previewing the information of our dataset\n",
        "spam.info()"
      ],
      "metadata": {
        "colab": {
          "base_uri": "https://localhost:8080/"
        },
        "id": "UBPHFC-_MgPa",
        "outputId": "000e5d4a-3181-4f5c-eb0d-6773653a62e8"
      },
      "execution_count": 10,
      "outputs": [
        {
          "output_type": "stream",
          "name": "stdout",
          "text": [
            "<class 'pandas.core.frame.DataFrame'>\n",
            "RangeIndex: 4601 entries, 0 to 4600\n",
            "Data columns (total 58 columns):\n",
            " #   Column                      Non-Null Count  Dtype  \n",
            "---  ------                      --------------  -----  \n",
            " 0   word_freq_make              4601 non-null   float64\n",
            " 1   word_freq_address           4601 non-null   float64\n",
            " 2   word_freq_all               4601 non-null   float64\n",
            " 3   word_freq_3d                4601 non-null   float64\n",
            " 4   word_freq_our               4601 non-null   float64\n",
            " 5   word_freq_over              4601 non-null   float64\n",
            " 6   word_freq_remove            4601 non-null   float64\n",
            " 7   word_freq_internet          4601 non-null   float64\n",
            " 8   word_freq_order             4601 non-null   float64\n",
            " 9   word_freq_mail              4601 non-null   float64\n",
            " 10  word_freq_receive           4601 non-null   float64\n",
            " 11  word_freq_will              4601 non-null   float64\n",
            " 12  word_freq_people            4601 non-null   float64\n",
            " 13  word_freq_report            4601 non-null   float64\n",
            " 14  word_freq_addresses         4601 non-null   float64\n",
            " 15  word_freq_free              4601 non-null   float64\n",
            " 16  word_freq_business          4601 non-null   float64\n",
            " 17  word_freq_email             4601 non-null   float64\n",
            " 18  word_freq_you               4601 non-null   float64\n",
            " 19  word_freq_credit            4601 non-null   float64\n",
            " 20  word_freq_your              4601 non-null   float64\n",
            " 21  word_freq_font              4601 non-null   float64\n",
            " 22  word_freq_000               4601 non-null   float64\n",
            " 23  word_freq_money             4601 non-null   float64\n",
            " 24  word_freq_hp                4601 non-null   float64\n",
            " 25  word_freq_hpl               4601 non-null   float64\n",
            " 26  word_freq_george            4601 non-null   float64\n",
            " 27  word_freq_650               4601 non-null   float64\n",
            " 28  word_freq_lab               4601 non-null   float64\n",
            " 29  word_freq_labs              4601 non-null   float64\n",
            " 30  word_freq_telnet            4601 non-null   float64\n",
            " 31  word_freq_857               4601 non-null   float64\n",
            " 32  word_freq_data              4601 non-null   float64\n",
            " 33  word_freq_415               4601 non-null   float64\n",
            " 34  word_freq_85                4601 non-null   float64\n",
            " 35  word_freq_technology        4601 non-null   float64\n",
            " 36  word_freq_1999              4601 non-null   float64\n",
            " 37  word_freq_parts             4601 non-null   float64\n",
            " 38  word_freq_pm                4601 non-null   float64\n",
            " 39  word_freq_direct            4601 non-null   float64\n",
            " 40  word_freq_cs                4601 non-null   float64\n",
            " 41  word_freq_meeting           4601 non-null   float64\n",
            " 42  word_freq_original          4601 non-null   float64\n",
            " 43  word_freq_project           4601 non-null   float64\n",
            " 44  word_freq_re                4601 non-null   float64\n",
            " 45  word_freq_edu               4601 non-null   float64\n",
            " 46  word_freq_table             4601 non-null   float64\n",
            " 47  word_freq_conference        4601 non-null   float64\n",
            " 48  char_freq_;                 4601 non-null   float64\n",
            " 49  char_freq_(                 4601 non-null   float64\n",
            " 50  char_freq_[                 4601 non-null   float64\n",
            " 51  char_freq_exclamation       4601 non-null   float64\n",
            " 52  char_freq_dollar            4601 non-null   float64\n",
            " 53  char_freq_hashtag           4601 non-null   float64\n",
            " 54  capital_run_length_average  4601 non-null   float64\n",
            " 55  capital_run_length_longest  4601 non-null   int64  \n",
            " 56  capital_run_length_total    4601 non-null   int64  \n",
            " 57  spam                        4601 non-null   int64  \n",
            "dtypes: float64(55), int64(3)\n",
            "memory usage: 2.0 MB\n"
          ]
        }
      ]
    },
    {
      "cell_type": "markdown",
      "source": [
        "Despite the fact that the output reveals that there is no missing values, we shall still do the data cleaning to checking for any anomalies or duplicates"
      ],
      "metadata": {
        "id": "N6-kFukTNKAf"
      }
    },
    {
      "cell_type": "markdown",
      "source": [
        "# **3. DATA CLEANING**"
      ],
      "metadata": {
        "id": "pf3l-fcJNV5U"
      }
    },
    {
      "cell_type": "markdown",
      "source": [
        "# Checking for Anomalies"
      ],
      "metadata": {
        "id": "Z5iWEepENnoo"
      }
    },
    {
      "cell_type": "code",
      "source": [
        "# we check for duplicates in the dataset\n",
        "# \n",
        "print(spam.duplicated().any())\n",
        "\n",
        "# If any, print the sum of duplicates\n",
        "print(spam.duplicated().sum())"
      ],
      "metadata": {
        "colab": {
          "base_uri": "https://localhost:8080/"
        },
        "id": "mtm5J7siNF6g",
        "outputId": "c291350a-90d5-4f5d-d08b-f8c55ecee923"
      },
      "execution_count": 11,
      "outputs": [
        {
          "output_type": "stream",
          "name": "stdout",
          "text": [
            "True\n",
            "391\n"
          ]
        }
      ]
    },
    {
      "cell_type": "markdown",
      "source": [
        "There are 391 duplicated values in our dataset, which we shall remove"
      ],
      "metadata": {
        "id": "iPlTrKnnNwme"
      }
    },
    {
      "cell_type": "code",
      "source": [
        "# Dealing with duplicates\n",
        "\n",
        "spam.drop_duplicates(keep='first', inplace = True)\n",
        "\n",
        "print(spam.duplicated().any())\n"
      ],
      "metadata": {
        "colab": {
          "base_uri": "https://localhost:8080/"
        },
        "id": "MG3oJy9JN3-o",
        "outputId": "4cd73815-bb79-4807-8f34-c84fc334331a"
      },
      "execution_count": 12,
      "outputs": [
        {
          "output_type": "stream",
          "name": "stdout",
          "text": [
            "False\n"
          ]
        }
      ]
    },
    {
      "cell_type": "markdown",
      "source": [
        "We have dropped the 391 duplicate values"
      ],
      "metadata": {
        "id": "pE5tbAcbN983"
      }
    },
    {
      "cell_type": "markdown",
      "source": [
        "# Checking for missing data"
      ],
      "metadata": {
        "id": "D_L91A2COIUP"
      }
    },
    {
      "cell_type": "code",
      "source": [
        "# Identifying the Missing Data\n",
        "spam.isnull().sum()"
      ],
      "metadata": {
        "colab": {
          "base_uri": "https://localhost:8080/"
        },
        "id": "R8QyOlx7OSXP",
        "outputId": "ecc57d15-1c6e-4314-f185-7533157c9911"
      },
      "execution_count": 13,
      "outputs": [
        {
          "output_type": "execute_result",
          "data": {
            "text/plain": [
              "word_freq_make                0\n",
              "word_freq_address             0\n",
              "word_freq_all                 0\n",
              "word_freq_3d                  0\n",
              "word_freq_our                 0\n",
              "word_freq_over                0\n",
              "word_freq_remove              0\n",
              "word_freq_internet            0\n",
              "word_freq_order               0\n",
              "word_freq_mail                0\n",
              "word_freq_receive             0\n",
              "word_freq_will                0\n",
              "word_freq_people              0\n",
              "word_freq_report              0\n",
              "word_freq_addresses           0\n",
              "word_freq_free                0\n",
              "word_freq_business            0\n",
              "word_freq_email               0\n",
              "word_freq_you                 0\n",
              "word_freq_credit              0\n",
              "word_freq_your                0\n",
              "word_freq_font                0\n",
              "word_freq_000                 0\n",
              "word_freq_money               0\n",
              "word_freq_hp                  0\n",
              "word_freq_hpl                 0\n",
              "word_freq_george              0\n",
              "word_freq_650                 0\n",
              "word_freq_lab                 0\n",
              "word_freq_labs                0\n",
              "word_freq_telnet              0\n",
              "word_freq_857                 0\n",
              "word_freq_data                0\n",
              "word_freq_415                 0\n",
              "word_freq_85                  0\n",
              "word_freq_technology          0\n",
              "word_freq_1999                0\n",
              "word_freq_parts               0\n",
              "word_freq_pm                  0\n",
              "word_freq_direct              0\n",
              "word_freq_cs                  0\n",
              "word_freq_meeting             0\n",
              "word_freq_original            0\n",
              "word_freq_project             0\n",
              "word_freq_re                  0\n",
              "word_freq_edu                 0\n",
              "word_freq_table               0\n",
              "word_freq_conference          0\n",
              "char_freq_;                   0\n",
              "char_freq_(                   0\n",
              "char_freq_[                   0\n",
              "char_freq_exclamation         0\n",
              "char_freq_dollar              0\n",
              "char_freq_hashtag             0\n",
              "capital_run_length_average    0\n",
              "capital_run_length_longest    0\n",
              "capital_run_length_total      0\n",
              "spam                          0\n",
              "dtype: int64"
            ]
          },
          "metadata": {},
          "execution_count": 13
        }
      ]
    },
    {
      "cell_type": "markdown",
      "source": [
        "There are no null values in the various features"
      ],
      "metadata": {
        "id": "8yF8dGl0OZ9J"
      }
    },
    {
      "cell_type": "markdown",
      "source": [
        "# **4. EXPLORATORY DATA ANALYSIS**"
      ],
      "metadata": {
        "id": "77Uvj_CtPamb"
      }
    },
    {
      "cell_type": "code",
      "source": [
        "# Let's preview the statistical summary of our dataset\n",
        "spam.describe()"
      ],
      "metadata": {
        "colab": {
          "base_uri": "https://localhost:8080/",
          "height": 394
        },
        "id": "h_1cSKgbPmPg",
        "outputId": "f7229001-9d05-428d-a217-925f5839a696"
      },
      "execution_count": 14,
      "outputs": [
        {
          "output_type": "execute_result",
          "data": {
            "text/plain": [
              "       word_freq_make  word_freq_address  word_freq_all  word_freq_3d  \\\n",
              "count     4210.000000        4210.000000    4210.000000   4210.000000   \n",
              "mean         0.104366           0.112656       0.291473      0.063078   \n",
              "std          0.300005           0.454260       0.515719      1.352487   \n",
              "min          0.000000           0.000000       0.000000      0.000000   \n",
              "25%          0.000000           0.000000       0.000000      0.000000   \n",
              "50%          0.000000           0.000000       0.000000      0.000000   \n",
              "75%          0.000000           0.000000       0.440000      0.000000   \n",
              "max          4.540000          14.280000       5.100000     42.810000   \n",
              "\n",
              "       word_freq_our  word_freq_over  word_freq_remove  word_freq_internet  \\\n",
              "count    4210.000000     4210.000000       4210.000000         4210.000000   \n",
              "mean        0.325321        0.096656          0.117475            0.108000   \n",
              "std         0.687805        0.276030          0.397284            0.410282   \n",
              "min         0.000000        0.000000          0.000000            0.000000   \n",
              "25%         0.000000        0.000000          0.000000            0.000000   \n",
              "50%         0.000000        0.000000          0.000000            0.000000   \n",
              "75%         0.410000        0.000000          0.000000            0.000000   \n",
              "max        10.000000        5.880000          7.270000           11.110000   \n",
              "\n",
              "       word_freq_order  word_freq_mail  ...  char_freq_;  char_freq_(  \\\n",
              "count      4210.000000     4210.000000  ...  4210.000000  4210.000000   \n",
              "mean          0.091860        0.248420  ...     0.040403     0.144048   \n",
              "std           0.282144        0.656638  ...     0.252533     0.274256   \n",
              "min           0.000000        0.000000  ...     0.000000     0.000000   \n",
              "25%           0.000000        0.000000  ...     0.000000     0.000000   \n",
              "50%           0.000000        0.000000  ...     0.000000     0.073000   \n",
              "75%           0.000000        0.190000  ...     0.000000     0.194000   \n",
              "max           5.260000       18.180000  ...     4.385000     9.752000   \n",
              "\n",
              "       char_freq_[  char_freq_exclamation  char_freq_dollar  \\\n",
              "count  4210.000000            4210.000000       4210.000000   \n",
              "mean      0.017376               0.281136          0.076057   \n",
              "std       0.105731               0.843321          0.239708   \n",
              "min       0.000000               0.000000          0.000000   \n",
              "25%       0.000000               0.000000          0.000000   \n",
              "50%       0.000000               0.016000          0.000000   \n",
              "75%       0.000000               0.331000          0.053000   \n",
              "max       4.081000              32.478000          6.003000   \n",
              "\n",
              "       char_freq_hashtag  capital_run_length_average  \\\n",
              "count        4210.000000                 4210.000000   \n",
              "mean            0.045798                    5.383896   \n",
              "std             0.435925                   33.147358   \n",
              "min             0.000000                    1.000000   \n",
              "25%             0.000000                    1.627500   \n",
              "50%             0.000000                    2.297000   \n",
              "75%             0.000000                    3.706750   \n",
              "max            19.829000                 1102.500000   \n",
              "\n",
              "       capital_run_length_longest  capital_run_length_total         spam  \n",
              "count                 4210.000000               4210.000000  4210.000000  \n",
              "mean                    52.139905                291.181948     0.398812  \n",
              "std                    199.582168                618.654838     0.489712  \n",
              "min                      1.000000                  1.000000     0.000000  \n",
              "25%                      7.000000                 40.000000     0.000000  \n",
              "50%                     15.000000                101.500000     0.000000  \n",
              "75%                     44.000000                273.750000     1.000000  \n",
              "max                   9989.000000              15841.000000     1.000000  \n",
              "\n",
              "[8 rows x 58 columns]"
            ],
            "text/html": [
              "\n",
              "  <div id=\"df-91c33e23-ff9b-487f-96ca-fc28e3b814f7\">\n",
              "    <div class=\"colab-df-container\">\n",
              "      <div>\n",
              "<style scoped>\n",
              "    .dataframe tbody tr th:only-of-type {\n",
              "        vertical-align: middle;\n",
              "    }\n",
              "\n",
              "    .dataframe tbody tr th {\n",
              "        vertical-align: top;\n",
              "    }\n",
              "\n",
              "    .dataframe thead th {\n",
              "        text-align: right;\n",
              "    }\n",
              "</style>\n",
              "<table border=\"1\" class=\"dataframe\">\n",
              "  <thead>\n",
              "    <tr style=\"text-align: right;\">\n",
              "      <th></th>\n",
              "      <th>word_freq_make</th>\n",
              "      <th>word_freq_address</th>\n",
              "      <th>word_freq_all</th>\n",
              "      <th>word_freq_3d</th>\n",
              "      <th>word_freq_our</th>\n",
              "      <th>word_freq_over</th>\n",
              "      <th>word_freq_remove</th>\n",
              "      <th>word_freq_internet</th>\n",
              "      <th>word_freq_order</th>\n",
              "      <th>word_freq_mail</th>\n",
              "      <th>...</th>\n",
              "      <th>char_freq_;</th>\n",
              "      <th>char_freq_(</th>\n",
              "      <th>char_freq_[</th>\n",
              "      <th>char_freq_exclamation</th>\n",
              "      <th>char_freq_dollar</th>\n",
              "      <th>char_freq_hashtag</th>\n",
              "      <th>capital_run_length_average</th>\n",
              "      <th>capital_run_length_longest</th>\n",
              "      <th>capital_run_length_total</th>\n",
              "      <th>spam</th>\n",
              "    </tr>\n",
              "  </thead>\n",
              "  <tbody>\n",
              "    <tr>\n",
              "      <th>count</th>\n",
              "      <td>4210.000000</td>\n",
              "      <td>4210.000000</td>\n",
              "      <td>4210.000000</td>\n",
              "      <td>4210.000000</td>\n",
              "      <td>4210.000000</td>\n",
              "      <td>4210.000000</td>\n",
              "      <td>4210.000000</td>\n",
              "      <td>4210.000000</td>\n",
              "      <td>4210.000000</td>\n",
              "      <td>4210.000000</td>\n",
              "      <td>...</td>\n",
              "      <td>4210.000000</td>\n",
              "      <td>4210.000000</td>\n",
              "      <td>4210.000000</td>\n",
              "      <td>4210.000000</td>\n",
              "      <td>4210.000000</td>\n",
              "      <td>4210.000000</td>\n",
              "      <td>4210.000000</td>\n",
              "      <td>4210.000000</td>\n",
              "      <td>4210.000000</td>\n",
              "      <td>4210.000000</td>\n",
              "    </tr>\n",
              "    <tr>\n",
              "      <th>mean</th>\n",
              "      <td>0.104366</td>\n",
              "      <td>0.112656</td>\n",
              "      <td>0.291473</td>\n",
              "      <td>0.063078</td>\n",
              "      <td>0.325321</td>\n",
              "      <td>0.096656</td>\n",
              "      <td>0.117475</td>\n",
              "      <td>0.108000</td>\n",
              "      <td>0.091860</td>\n",
              "      <td>0.248420</td>\n",
              "      <td>...</td>\n",
              "      <td>0.040403</td>\n",
              "      <td>0.144048</td>\n",
              "      <td>0.017376</td>\n",
              "      <td>0.281136</td>\n",
              "      <td>0.076057</td>\n",
              "      <td>0.045798</td>\n",
              "      <td>5.383896</td>\n",
              "      <td>52.139905</td>\n",
              "      <td>291.181948</td>\n",
              "      <td>0.398812</td>\n",
              "    </tr>\n",
              "    <tr>\n",
              "      <th>std</th>\n",
              "      <td>0.300005</td>\n",
              "      <td>0.454260</td>\n",
              "      <td>0.515719</td>\n",
              "      <td>1.352487</td>\n",
              "      <td>0.687805</td>\n",
              "      <td>0.276030</td>\n",
              "      <td>0.397284</td>\n",
              "      <td>0.410282</td>\n",
              "      <td>0.282144</td>\n",
              "      <td>0.656638</td>\n",
              "      <td>...</td>\n",
              "      <td>0.252533</td>\n",
              "      <td>0.274256</td>\n",
              "      <td>0.105731</td>\n",
              "      <td>0.843321</td>\n",
              "      <td>0.239708</td>\n",
              "      <td>0.435925</td>\n",
              "      <td>33.147358</td>\n",
              "      <td>199.582168</td>\n",
              "      <td>618.654838</td>\n",
              "      <td>0.489712</td>\n",
              "    </tr>\n",
              "    <tr>\n",
              "      <th>min</th>\n",
              "      <td>0.000000</td>\n",
              "      <td>0.000000</td>\n",
              "      <td>0.000000</td>\n",
              "      <td>0.000000</td>\n",
              "      <td>0.000000</td>\n",
              "      <td>0.000000</td>\n",
              "      <td>0.000000</td>\n",
              "      <td>0.000000</td>\n",
              "      <td>0.000000</td>\n",
              "      <td>0.000000</td>\n",
              "      <td>...</td>\n",
              "      <td>0.000000</td>\n",
              "      <td>0.000000</td>\n",
              "      <td>0.000000</td>\n",
              "      <td>0.000000</td>\n",
              "      <td>0.000000</td>\n",
              "      <td>0.000000</td>\n",
              "      <td>1.000000</td>\n",
              "      <td>1.000000</td>\n",
              "      <td>1.000000</td>\n",
              "      <td>0.000000</td>\n",
              "    </tr>\n",
              "    <tr>\n",
              "      <th>25%</th>\n",
              "      <td>0.000000</td>\n",
              "      <td>0.000000</td>\n",
              "      <td>0.000000</td>\n",
              "      <td>0.000000</td>\n",
              "      <td>0.000000</td>\n",
              "      <td>0.000000</td>\n",
              "      <td>0.000000</td>\n",
              "      <td>0.000000</td>\n",
              "      <td>0.000000</td>\n",
              "      <td>0.000000</td>\n",
              "      <td>...</td>\n",
              "      <td>0.000000</td>\n",
              "      <td>0.000000</td>\n",
              "      <td>0.000000</td>\n",
              "      <td>0.000000</td>\n",
              "      <td>0.000000</td>\n",
              "      <td>0.000000</td>\n",
              "      <td>1.627500</td>\n",
              "      <td>7.000000</td>\n",
              "      <td>40.000000</td>\n",
              "      <td>0.000000</td>\n",
              "    </tr>\n",
              "    <tr>\n",
              "      <th>50%</th>\n",
              "      <td>0.000000</td>\n",
              "      <td>0.000000</td>\n",
              "      <td>0.000000</td>\n",
              "      <td>0.000000</td>\n",
              "      <td>0.000000</td>\n",
              "      <td>0.000000</td>\n",
              "      <td>0.000000</td>\n",
              "      <td>0.000000</td>\n",
              "      <td>0.000000</td>\n",
              "      <td>0.000000</td>\n",
              "      <td>...</td>\n",
              "      <td>0.000000</td>\n",
              "      <td>0.073000</td>\n",
              "      <td>0.000000</td>\n",
              "      <td>0.016000</td>\n",
              "      <td>0.000000</td>\n",
              "      <td>0.000000</td>\n",
              "      <td>2.297000</td>\n",
              "      <td>15.000000</td>\n",
              "      <td>101.500000</td>\n",
              "      <td>0.000000</td>\n",
              "    </tr>\n",
              "    <tr>\n",
              "      <th>75%</th>\n",
              "      <td>0.000000</td>\n",
              "      <td>0.000000</td>\n",
              "      <td>0.440000</td>\n",
              "      <td>0.000000</td>\n",
              "      <td>0.410000</td>\n",
              "      <td>0.000000</td>\n",
              "      <td>0.000000</td>\n",
              "      <td>0.000000</td>\n",
              "      <td>0.000000</td>\n",
              "      <td>0.190000</td>\n",
              "      <td>...</td>\n",
              "      <td>0.000000</td>\n",
              "      <td>0.194000</td>\n",
              "      <td>0.000000</td>\n",
              "      <td>0.331000</td>\n",
              "      <td>0.053000</td>\n",
              "      <td>0.000000</td>\n",
              "      <td>3.706750</td>\n",
              "      <td>44.000000</td>\n",
              "      <td>273.750000</td>\n",
              "      <td>1.000000</td>\n",
              "    </tr>\n",
              "    <tr>\n",
              "      <th>max</th>\n",
              "      <td>4.540000</td>\n",
              "      <td>14.280000</td>\n",
              "      <td>5.100000</td>\n",
              "      <td>42.810000</td>\n",
              "      <td>10.000000</td>\n",
              "      <td>5.880000</td>\n",
              "      <td>7.270000</td>\n",
              "      <td>11.110000</td>\n",
              "      <td>5.260000</td>\n",
              "      <td>18.180000</td>\n",
              "      <td>...</td>\n",
              "      <td>4.385000</td>\n",
              "      <td>9.752000</td>\n",
              "      <td>4.081000</td>\n",
              "      <td>32.478000</td>\n",
              "      <td>6.003000</td>\n",
              "      <td>19.829000</td>\n",
              "      <td>1102.500000</td>\n",
              "      <td>9989.000000</td>\n",
              "      <td>15841.000000</td>\n",
              "      <td>1.000000</td>\n",
              "    </tr>\n",
              "  </tbody>\n",
              "</table>\n",
              "<p>8 rows × 58 columns</p>\n",
              "</div>\n",
              "      <button class=\"colab-df-convert\" onclick=\"convertToInteractive('df-91c33e23-ff9b-487f-96ca-fc28e3b814f7')\"\n",
              "              title=\"Convert this dataframe to an interactive table.\"\n",
              "              style=\"display:none;\">\n",
              "        \n",
              "  <svg xmlns=\"http://www.w3.org/2000/svg\" height=\"24px\"viewBox=\"0 0 24 24\"\n",
              "       width=\"24px\">\n",
              "    <path d=\"M0 0h24v24H0V0z\" fill=\"none\"/>\n",
              "    <path d=\"M18.56 5.44l.94 2.06.94-2.06 2.06-.94-2.06-.94-.94-2.06-.94 2.06-2.06.94zm-11 1L8.5 8.5l.94-2.06 2.06-.94-2.06-.94L8.5 2.5l-.94 2.06-2.06.94zm10 10l.94 2.06.94-2.06 2.06-.94-2.06-.94-.94-2.06-.94 2.06-2.06.94z\"/><path d=\"M17.41 7.96l-1.37-1.37c-.4-.4-.92-.59-1.43-.59-.52 0-1.04.2-1.43.59L10.3 9.45l-7.72 7.72c-.78.78-.78 2.05 0 2.83L4 21.41c.39.39.9.59 1.41.59.51 0 1.02-.2 1.41-.59l7.78-7.78 2.81-2.81c.8-.78.8-2.07 0-2.86zM5.41 20L4 18.59l7.72-7.72 1.47 1.35L5.41 20z\"/>\n",
              "  </svg>\n",
              "      </button>\n",
              "      \n",
              "  <style>\n",
              "    .colab-df-container {\n",
              "      display:flex;\n",
              "      flex-wrap:wrap;\n",
              "      gap: 12px;\n",
              "    }\n",
              "\n",
              "    .colab-df-convert {\n",
              "      background-color: #E8F0FE;\n",
              "      border: none;\n",
              "      border-radius: 50%;\n",
              "      cursor: pointer;\n",
              "      display: none;\n",
              "      fill: #1967D2;\n",
              "      height: 32px;\n",
              "      padding: 0 0 0 0;\n",
              "      width: 32px;\n",
              "    }\n",
              "\n",
              "    .colab-df-convert:hover {\n",
              "      background-color: #E2EBFA;\n",
              "      box-shadow: 0px 1px 2px rgba(60, 64, 67, 0.3), 0px 1px 3px 1px rgba(60, 64, 67, 0.15);\n",
              "      fill: #174EA6;\n",
              "    }\n",
              "\n",
              "    [theme=dark] .colab-df-convert {\n",
              "      background-color: #3B4455;\n",
              "      fill: #D2E3FC;\n",
              "    }\n",
              "\n",
              "    [theme=dark] .colab-df-convert:hover {\n",
              "      background-color: #434B5C;\n",
              "      box-shadow: 0px 1px 3px 1px rgba(0, 0, 0, 0.15);\n",
              "      filter: drop-shadow(0px 1px 2px rgba(0, 0, 0, 0.3));\n",
              "      fill: #FFFFFF;\n",
              "    }\n",
              "  </style>\n",
              "\n",
              "      <script>\n",
              "        const buttonEl =\n",
              "          document.querySelector('#df-91c33e23-ff9b-487f-96ca-fc28e3b814f7 button.colab-df-convert');\n",
              "        buttonEl.style.display =\n",
              "          google.colab.kernel.accessAllowed ? 'block' : 'none';\n",
              "\n",
              "        async function convertToInteractive(key) {\n",
              "          const element = document.querySelector('#df-91c33e23-ff9b-487f-96ca-fc28e3b814f7');\n",
              "          const dataTable =\n",
              "            await google.colab.kernel.invokeFunction('convertToInteractive',\n",
              "                                                     [key], {});\n",
              "          if (!dataTable) return;\n",
              "\n",
              "          const docLinkHtml = 'Like what you see? Visit the ' +\n",
              "            '<a target=\"_blank\" href=https://colab.research.google.com/notebooks/data_table.ipynb>data table notebook</a>'\n",
              "            + ' to learn more about interactive tables.';\n",
              "          element.innerHTML = '';\n",
              "          dataTable['output_type'] = 'display_data';\n",
              "          await google.colab.output.renderOutput(dataTable, element);\n",
              "          const docLink = document.createElement('div');\n",
              "          docLink.innerHTML = docLinkHtml;\n",
              "          element.appendChild(docLink);\n",
              "        }\n",
              "      </script>\n",
              "    </div>\n",
              "  </div>\n",
              "  "
            ]
          },
          "metadata": {},
          "execution_count": 14
        }
      ]
    },
    {
      "cell_type": "code",
      "source": [
        "# checking how many are spam and how many are not\n",
        "spam.spam.value_counts().plot(kind = 'bar', rot = 0, color = ['red', 'green'])\n",
        "print(spam.spam.value_counts())"
      ],
      "metadata": {
        "colab": {
          "base_uri": "https://localhost:8080/",
          "height": 317
        },
        "id": "a_LLmQMAOX9z",
        "outputId": "09950880-2d02-466a-db26-8fbe52ee9afd"
      },
      "execution_count": 15,
      "outputs": [
        {
          "output_type": "stream",
          "name": "stdout",
          "text": [
            "0    2531\n",
            "1    1679\n",
            "Name: spam, dtype: int64\n"
          ]
        },
        {
          "output_type": "display_data",
          "data": {
            "text/plain": [
              "<Figure size 432x288 with 1 Axes>"
            ],
            "image/png": "[encoded data removed]"
          },
          "metadata": {
            "needs_background": "light"
          }
        }
      ]
    },
    {
      "cell_type": "markdown",
      "source": [
        "The output reveals that the emails marked as spam(1679) are less than those unmarked as spam(2531)"
      ],
      "metadata": {
        "id": "R2jvy4iEQAF-"
      }
    },
    {
      "cell_type": "markdown",
      "source": [
        "# **5. Implementing the Solution**"
      ],
      "metadata": {
        "id": "Mic9a82QQW77"
      }
    },
    {
      "cell_type": "markdown",
      "source": [
        "# Logistic Regression Model"
      ],
      "metadata": {
        "id": "Ou2WBp17QhDl"
      }
    },
    {
      "cell_type": "markdown",
      "source": [
        "We are going to use this model as our baseline for model accuracy comparison with the Naives Bayes classifier"
      ],
      "metadata": {
        "id": "laaJ3bVKQllO"
      }
    },
    {
      "cell_type": "code",
      "source": [
        "# Importing the libraries we are going to use\n",
        "from sklearn.model_selection import train_test_split\n",
        "from sklearn.preprocessing import StandardScaler\n",
        "from sklearn.linear_model import LogisticRegression\n",
        "from sklearn.metrics import accuracy_score, r2_score,mean_absolute_error, mean_squared_error\n",
        "import scipy.stats as stats"
      ],
      "metadata": {
        "id": "EEWA60JAQWnn"
      },
      "execution_count": 16,
      "outputs": []
    },
    {
      "cell_type": "code",
      "source": [
        "# x=independent variable\n",
        "# y=target variable\n",
        "# we define each variable \n",
        "X = spam.drop(columns = ['spam'], axis=1)\n",
        "y = spam['spam']\n",
        "# \n",
        "# The split data into train and test set\n",
        "X_train, X_test, y_train, y_test = train_test_split(X,y, test_size=0.20, random_state=0)\n",
        "# \n",
        "# Then standardise the X_train and the X_test to the same scale\n",
        "sc = StandardScaler()\n",
        "# We then train our model\n",
        "# \n",
        "X_train = sc.fit_transform(X_train)\n",
        "X_test = sc.transform(X_test)\n",
        "# \n",
        "# Fit the model and Make predictions using the model above\n",
        "logmodel = LogisticRegression()\n",
        "logmodel.fit(X_train,y_train)\n",
        "\n",
        "preds = logmodel.predict(X_test)\n",
        "# \n",
        "# compute the accuracy of our model\n",
        "print(\"Our logistic Regression model accuracy is\", accuracy_score(y_test,preds))"
      ],
      "metadata": {
        "colab": {
          "base_uri": "https://localhost:8080/"
        },
        "id": "L3N5ibFcRDd9",
        "outputId": "8a04703b-c4c5-4ba3-d5d5-6341e715257a"
      },
      "execution_count": 17,
      "outputs": [
        {
          "output_type": "stream",
          "name": "stdout",
          "text": [
            "Our logistic Regression model accuracy is 0.9251781472684085\n"
          ]
        }
      ]
    },
    {
      "cell_type": "markdown",
      "source": [
        "As our baseline model, the logistic regression model gives us an accuracy score of 92.51% which indicates that our model has good perfromance"
      ],
      "metadata": {
        "id": "q6J15DqUR_p0"
      }
    },
    {
      "cell_type": "markdown",
      "source": [
        "# Naives Bayes Classifier"
      ],
      "metadata": {
        "id": "2lXXBSQiSQST"
      }
    },
    {
      "cell_type": "markdown",
      "source": [
        "# Gaussian NB"
      ],
      "metadata": {
        "id": "ukFes461SU6S"
      }
    },
    {
      "cell_type": "code",
      "source": [
        "# importing the libaries we shall use\n",
        "from sklearn.naive_bayes import GaussianNB\n",
        "from sklearn.metrics import mean_squared_error\n",
        "from sklearn.metrics import accuracy_score, r2_score,mean_absolute_error, mean_squared_error\n"
      ],
      "metadata": {
        "id": "3-Tv0VrtTXiY"
      },
      "execution_count": 26,
      "outputs": []
    },
    {
      "cell_type": "code",
      "source": [
        "# we first identify the dependent and independent variable\n",
        "# \n",
        "X = spam.drop(columns = ['spam'], axis=1)\n",
        "y = spam['spam']\n",
        "# \n",
        "# Split the data to train and test\n",
        "X_train, X_test, y_train, y_test = train_test_split(X,y, test_size=0.20, random_state=0)\n",
        "# \n",
        "# Train our model\n",
        "\n",
        "clf = GaussianNB()  \n",
        "model = clf.fit(X_train, y_train) \n",
        "# \n",
        "# Predict our test prediction and print our accuracy score\n",
        "\n",
        "predicted = model.predict(X_test)\n",
        "print(\"Naives Bayes model accuracy for (80-20) is\", accuracy_score(y_test,predicted))"
      ],
      "metadata": {
        "colab": {
          "base_uri": "https://localhost:8080/"
        },
        "id": "Gvtf_ICHSbDE",
        "outputId": "ec673313-7208-49a0-f185-03998ccba572"
      },
      "execution_count": 20,
      "outputs": [
        {
          "output_type": "stream",
          "name": "stdout",
          "text": [
            "Naives Bayes model accuracy for (80-20) is 0.8206650831353919\n"
          ]
        }
      ]
    },
    {
      "cell_type": "code",
      "source": [
        "# using our above imported libraries\n",
        "# we shall also make predictions of 70-30 split\n",
        "\n",
        "X = spam.drop(columns = ['spam'], axis=1)\n",
        "y = spam['spam']\n",
        "# \n",
        "# Split the data to train and test\n",
        "X_train, X_test, y_train, y_test = train_test_split(X,y, test_size=0.30, random_state=0)\n",
        "# \n",
        "# Train our model\n",
        "\n",
        "clf = GaussianNB()  \n",
        "model = clf.fit(X_train, y_train) \n",
        "# \n",
        "# Predict our test prediction and print our accuracy score\n",
        "\n",
        "predicted = model.predict(X_test)\n",
        "print(\"Naives Bayes model accuracy for (70-30) is\", accuracy_score(y_test,predicted))"
      ],
      "metadata": {
        "colab": {
          "base_uri": "https://localhost:8080/"
        },
        "id": "KT0rdp5dUUYK",
        "outputId": "b069065c-d807-4b9c-a221-cee809f40875"
      },
      "execution_count": 23,
      "outputs": [
        {
          "output_type": "stream",
          "name": "stdout",
          "text": [
            "Naives Bayes model accuracy for (70-30) is 0.833729216152019\n"
          ]
        }
      ]
    },
    {
      "cell_type": "code",
      "source": [
        "# now, let's use a 60-40 split to make our model accuracy prediction\n",
        "X = spam.drop(columns = ['spam'], axis=1)\n",
        "y = spam['spam']\n",
        "# \n",
        "# Split the data to train and test\n",
        "X_train, X_test, y_train, y_test = train_test_split(X,y, test_size=0.40, random_state=0)\n",
        "# \n",
        "# Train our model\n",
        "\n",
        "clf = GaussianNB()  \n",
        "model = clf.fit(X_train, y_train) \n",
        "# \n",
        "# Predict our test prediction and print our accuracy score\n",
        "\n",
        "predicted = model.predict(X_test)\n",
        "print(\"Naives Bayes model accuracy for (60-40) is\", accuracy_score(y_test,predicted))"
      ],
      "metadata": {
        "colab": {
          "base_uri": "https://localhost:8080/"
        },
        "id": "kjbYgsdbU_Ng",
        "outputId": "13a98b43-1502-45c2-cf2f-29f8b1da296c"
      },
      "execution_count": 24,
      "outputs": [
        {
          "output_type": "stream",
          "name": "stdout",
          "text": [
            "Naives Bayes model accuracy for (60-40) is 0.8319477434679335\n"
          ]
        }
      ]
    },
    {
      "cell_type": "markdown",
      "source": [
        "Without our baseline model having an accuracy of 92.51%, the comparison among our 3 naives bayes classifier model gives the following output:\n",
        "\n",
        "80-20 split: has an accuracy score of 82.06%\n",
        "\n",
        "70-30split: has an accuracy score of 83.37%\n",
        "\n",
        "while the 60-40 split has an accuracy score of 83.19%."
      ],
      "metadata": {
        "id": "LdifsalzVRCD"
      }
    },
    {
      "cell_type": "markdown",
      "source": [
        "# Using LDA to improve the perfomance of our model"
      ],
      "metadata": {
        "id": "WMml4dMFWMuO"
      }
    },
    {
      "cell_type": "code",
      "source": [
        "# importing the sklearn libraries we shall use\n",
        "\n",
        "from sklearn.discriminant_analysis import LinearDiscriminantAnalysis as LDA\n",
        "from sklearn.ensemble import RandomForestClassifier\n",
        "from sklearn.metrics import confusion_matrix\n",
        "from sklearn.metrics import accuracy_score\n"
      ],
      "metadata": {
        "id": "QRVUKapFXYRI"
      },
      "execution_count": 27,
      "outputs": []
    },
    {
      "cell_type": "code",
      "source": [
        "# assign values to our X, and Y variables\n",
        "X = spam.iloc[:, 0:-1].values\n",
        "y = spam.iloc[:, -1].values\n",
        "# \n",
        "# We then split the data to train and test\n",
        "\n",
        "X_train, X_test, y_train, y_test = train_test_split(X, y, test_size=0.2, random_state=0)\n",
        "\n",
        "# Performing feature scaling which is done on the independent variables to normalize the data to a particular range\n",
        "\n",
        "scaler = StandardScaler()\n",
        "X_train = scaler.fit_transform(X_train)\n",
        "X_test = scaler.transform(X_test)"
      ],
      "metadata": {
        "id": "aXxfcLXvWDH2"
      },
      "execution_count": 28,
      "outputs": []
    },
    {
      "cell_type": "code",
      "source": [
        "# Performing Linear Discriminant Analysis(LDA)\n",
        "lda = LDA(n_components=1)\n",
        "L_train = lda.fit_transform(X_train, y_train)\n",
        "L_test = lda.transform(X_test)\n",
        "# \n",
        "# We will use the random forest classifier to evaluate the performance of a PCA-reduced algorithms as shown below\n",
        "# when training and making predictions\n",
        "\n",
        "classifier = RandomForestClassifier(max_depth=2, random_state=0)\n",
        "classifier.fit(L_train, y_train)\n",
        "y_pred = classifier.predict(L_test)"
      ],
      "metadata": {
        "id": "P1gn84REXnW6"
      },
      "execution_count": 29,
      "outputs": []
    },
    {
      "cell_type": "code",
      "source": [
        "# Evaluating our model performance using the confusion matrix\n",
        "\n",
        "conf_matrix = confusion_matrix(y_test, y_pred)\n",
        "print(conf_matrix )\n",
        "print('LDA Accuracy is '+ str(accuracy_score(y_test, y_pred)))"
      ],
      "metadata": {
        "colab": {
          "base_uri": "https://localhost:8080/"
        },
        "id": "TBLKlFe0XDf_",
        "outputId": "3877b6d8-ecd6-40d5-e2e4-52fa3f129df8"
      },
      "execution_count": 32,
      "outputs": [
        {
          "output_type": "stream",
          "name": "stdout",
          "text": [
            "[[453  42]\n",
            " [ 35 312]]\n",
            "LDA Accuracy is 0.9085510688836105\n"
          ]
        }
      ]
    },
    {
      "cell_type": "markdown",
      "source": [
        "From the results, our model can correctly make 765 predictions and 77 are off predictions. the model accuracy is 90.85% which improved from that of the naives bayes classifier models. "
      ],
      "metadata": {
        "id": "1vyPhMIrYJjh"
      }
    },
    {
      "cell_type": "markdown",
      "source": [
        "# **6. EVALUATION**"
      ],
      "metadata": {
        "id": "qHMwV1eAYDRY"
      }
    },
    {
      "cell_type": "markdown",
      "source": [
        "From the analysis, our model accuracy is above 80% which means, it can make good predictions"
      ],
      "metadata": {
        "id": "SJafzMP6Zfel"
      }
    }
  ]
}