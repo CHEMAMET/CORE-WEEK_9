{
  "nbformat": 4,
  "nbformat_minor": 0,
  "metadata": {
    "colab": {
      "name": "CHEROTICH FAITH_CORE_WEEK 9 IP_MORINGA.ipynb",
      "provenance": [],
      "collapsed_sections": []
    },
    "kernelspec": {
      "name": "python3",
      "display_name": "Python 3"
    },
    "language_info": {
      "name": "python"
    }
  },
  "cells": [
    {
      "cell_type": "markdown",
      "source": [
        "# **1. INTRODUCTION**"
      ],
      "metadata": {
        "id": "cK-vIs4tPCKA"
      }
    },
    {
      "cell_type": "markdown",
      "source": [
        "# a. Defining the question"
      ],
      "metadata": {
        "id": "-hoFtrgDPaCw"
      }
    },
    {
      "cell_type": "markdown",
      "source": [
        "Predict the chance of survival of the passengers from the provided titanic dataset uaing the KNearest Neighbors algorithm as our our classifier"
      ],
      "metadata": {
        "id": "8gToq_81GEiM"
      }
    },
    {
      "cell_type": "markdown",
      "source": [
        "# b. Defining the Metric for success"
      ],
      "metadata": {
        "id": "7EKbQqxbPmQf"
      }
    },
    {
      "cell_type": "markdown",
      "source": [
        "Our model will be considered a success if our model gives an accouracy score of above 80%"
      ],
      "metadata": {
        "id": "g_p9nKBJFxaM"
      }
    },
    {
      "cell_type": "markdown",
      "source": [
        "# c. Understanding the context"
      ],
      "metadata": {
        "id": "eyyNfp_qPwk3"
      }
    },
    {
      "cell_type": "markdown",
      "source": [
        "\n",
        "The column description of the titanic dataset provided is as follows\n",
        "\n",
        "survival (0 = No, 1 = Yes)\n",
        "\n",
        "pclass - Ticket class (1 = 1st, 2 = 2nd, 3 = 3rd)\n",
        "\n",
        "sex\n",
        "\n",
        "Age - Age in years\n",
        "\n",
        "sibsp - # of siblings / spouses aboard the Titanic\n",
        "\n",
        "parch - # of parents / children aboard the Titanic\n",
        "\n",
        "ticket - Ticket number\n",
        "\n",
        "fare - Passenger fare\n",
        "\n",
        "cabin - Cabin number\n",
        "\n",
        "embarked - Port of Embarkation (C = Cherbourg, Q = Queenstown, S = Southampton)"
      ],
      "metadata": {
        "id": "8UfKGSeoGfqL"
      }
    },
    {
      "cell_type": "markdown",
      "source": [
        "# d. Data Relevance"
      ],
      "metadata": {
        "id": "6ZwisKqRP1so"
      }
    },
    {
      "cell_type": "markdown",
      "source": [
        "# e. Recording the Experimental Design"
      ],
      "metadata": {
        "id": "srALJoKnQAy8"
      }
    },
    {
      "cell_type": "markdown",
      "source": [
        "\n",
        "\n",
        "a) Business Understanding\n",
        "\n",
        "b) Data Understanding\n",
        "\n",
        "c) Data Cleaning\n",
        "\n",
        "d) EDA\n",
        "\n",
        "e) Modeling\n",
        "\n",
        "f) Evaluation\n"
      ],
      "metadata": {
        "id": "p_lg0WboGtMc"
      }
    },
    {
      "cell_type": "markdown",
      "source": [
        "# **2. READING THE DATASET**"
      ],
      "metadata": {
        "id": "TqlU3FUcQG6q"
      }
    },
    {
      "cell_type": "markdown",
      "source": [
        "# Importing libraries"
      ],
      "metadata": {
        "id": "mfR7I2coQV-o"
      }
    },
    {
      "cell_type": "code",
      "execution_count": 2,
      "metadata": {
        "id": "dxe-wUVvOuFv"
      },
      "outputs": [],
      "source": [
        "# importing the python libraries we shall need\n",
        "import pandas as pd\n",
        "import numpy as np\n",
        "\n",
        "# we also import visualization libraries\n",
        "from matplotlib import pyplot as plt\n",
        "%matplotlib inline\n",
        "import seaborn as sns\n",
        "\n",
        "# import warnings\n",
        "import warnings\n",
        "warnings.filterwarnings('ignore')"
      ]
    },
    {
      "cell_type": "markdown",
      "source": [
        "Loading the dataset"
      ],
      "metadata": {
        "id": "-2ig6ejCR7vv"
      }
    },
    {
      "cell_type": "code",
      "source": [
        "titanic=pd.read_csv('train.csv')\n",
        "# preview the head of the titanic dataset\n",
        "titanic.head()"
      ],
      "metadata": {
        "colab": {
          "base_uri": "https://localhost:8080/",
          "height": 320
        },
        "id": "l4vFs2BvR32_",
        "outputId": "53ef9311-45ce-473c-c327-5f0c9ac80c93"
      },
      "execution_count": 6,
      "outputs": [
        {
          "output_type": "execute_result",
          "data": {
            "text/plain": [
              "   PassengerId  Survived  Pclass  \\\n",
              "0            1         0       3   \n",
              "1            2         1       1   \n",
              "2            3         1       3   \n",
              "3            4         1       1   \n",
              "4            5         0       3   \n",
              "\n",
              "                                                Name     Sex   Age  SibSp  \\\n",
              "0                            Braund, Mr. Owen Harris    male  22.0      1   \n",
              "1  Cumings, Mrs. John Bradley (Florence Briggs Th...  female  38.0      1   \n",
              "2                             Heikkinen, Miss. Laina  female  26.0      0   \n",
              "3       Futrelle, Mrs. Jacques Heath (Lily May Peel)  female  35.0      1   \n",
              "4                           Allen, Mr. William Henry    male  35.0      0   \n",
              "\n",
              "   Parch            Ticket     Fare Cabin Embarked  \n",
              "0      0         A/5 21171   7.2500   NaN        S  \n",
              "1      0          PC 17599  71.2833   C85        C  \n",
              "2      0  STON/O2. 3101282   7.9250   NaN        S  \n",
              "3      0            113803  53.1000  C123        S  \n",
              "4      0            373450   8.0500   NaN        S  "
            ],
            "text/html": [
              "\n",
              "  <div id=\"df-7c1347d3-928a-481c-8a49-8898f286b0fe\">\n",
              "    <div class=\"colab-df-container\">\n",
              "      <div>\n",
              "<style scoped>\n",
              "    .dataframe tbody tr th:only-of-type {\n",
              "        vertical-align: middle;\n",
              "    }\n",
              "\n",
              "    .dataframe tbody tr th {\n",
              "        vertical-align: top;\n",
              "    }\n",
              "\n",
              "    .dataframe thead th {\n",
              "        text-align: right;\n",
              "    }\n",
              "</style>\n",
              "<table border=\"1\" class=\"dataframe\">\n",
              "  <thead>\n",
              "    <tr style=\"text-align: right;\">\n",
              "      <th></th>\n",
              "      <th>PassengerId</th>\n",
              "      <th>Survived</th>\n",
              "      <th>Pclass</th>\n",
              "      <th>Name</th>\n",
              "      <th>Sex</th>\n",
              "      <th>Age</th>\n",
              "      <th>SibSp</th>\n",
              "      <th>Parch</th>\n",
              "      <th>Ticket</th>\n",
              "      <th>Fare</th>\n",
              "      <th>Cabin</th>\n",
              "      <th>Embarked</th>\n",
              "    </tr>\n",
              "  </thead>\n",
              "  <tbody>\n",
              "    <tr>\n",
              "      <th>0</th>\n",
              "      <td>1</td>\n",
              "      <td>0</td>\n",
              "      <td>3</td>\n",
              "      <td>Braund, Mr. Owen Harris</td>\n",
              "      <td>male</td>\n",
              "      <td>22.0</td>\n",
              "      <td>1</td>\n",
              "      <td>0</td>\n",
              "      <td>A/5 21171</td>\n",
              "      <td>7.2500</td>\n",
              "      <td>NaN</td>\n",
              "      <td>S</td>\n",
              "    </tr>\n",
              "    <tr>\n",
              "      <th>1</th>\n",
              "      <td>2</td>\n",
              "      <td>1</td>\n",
              "      <td>1</td>\n",
              "      <td>Cumings, Mrs. John Bradley (Florence Briggs Th...</td>\n",
              "      <td>female</td>\n",
              "      <td>38.0</td>\n",
              "      <td>1</td>\n",
              "      <td>0</td>\n",
              "      <td>PC 17599</td>\n",
              "      <td>71.2833</td>\n",
              "      <td>C85</td>\n",
              "      <td>C</td>\n",
              "    </tr>\n",
              "    <tr>\n",
              "      <th>2</th>\n",
              "      <td>3</td>\n",
              "      <td>1</td>\n",
              "      <td>3</td>\n",
              "      <td>Heikkinen, Miss. Laina</td>\n",
              "      <td>female</td>\n",
              "      <td>26.0</td>\n",
              "      <td>0</td>\n",
              "      <td>0</td>\n",
              "      <td>STON/O2. 3101282</td>\n",
              "      <td>7.9250</td>\n",
              "      <td>NaN</td>\n",
              "      <td>S</td>\n",
              "    </tr>\n",
              "    <tr>\n",
              "      <th>3</th>\n",
              "      <td>4</td>\n",
              "      <td>1</td>\n",
              "      <td>1</td>\n",
              "      <td>Futrelle, Mrs. Jacques Heath (Lily May Peel)</td>\n",
              "      <td>female</td>\n",
              "      <td>35.0</td>\n",
              "      <td>1</td>\n",
              "      <td>0</td>\n",
              "      <td>113803</td>\n",
              "      <td>53.1000</td>\n",
              "      <td>C123</td>\n",
              "      <td>S</td>\n",
              "    </tr>\n",
              "    <tr>\n",
              "      <th>4</th>\n",
              "      <td>5</td>\n",
              "      <td>0</td>\n",
              "      <td>3</td>\n",
              "      <td>Allen, Mr. William Henry</td>\n",
              "      <td>male</td>\n",
              "      <td>35.0</td>\n",
              "      <td>0</td>\n",
              "      <td>0</td>\n",
              "      <td>373450</td>\n",
              "      <td>8.0500</td>\n",
              "      <td>NaN</td>\n",
              "      <td>S</td>\n",
              "    </tr>\n",
              "  </tbody>\n",
              "</table>\n",
              "</div>\n",
              "      <button class=\"colab-df-convert\" onclick=\"convertToInteractive('df-7c1347d3-928a-481c-8a49-8898f286b0fe')\"\n",
              "              title=\"Convert this dataframe to an interactive table.\"\n",
              "              style=\"display:none;\">\n",
              "        \n",
              "  <svg xmlns=\"http://www.w3.org/2000/svg\" height=\"24px\"viewBox=\"0 0 24 24\"\n",
              "       width=\"24px\">\n",
              "    <path d=\"M0 0h24v24H0V0z\" fill=\"none\"/>\n",
              "    <path d=\"M18.56 5.44l.94 2.06.94-2.06 2.06-.94-2.06-.94-.94-2.06-.94 2.06-2.06.94zm-11 1L8.5 8.5l.94-2.06 2.06-.94-2.06-.94L8.5 2.5l-.94 2.06-2.06.94zm10 10l.94 2.06.94-2.06 2.06-.94-2.06-.94-.94-2.06-.94 2.06-2.06.94z\"/><path d=\"M17.41 7.96l-1.37-1.37c-.4-.4-.92-.59-1.43-.59-.52 0-1.04.2-1.43.59L10.3 9.45l-7.72 7.72c-.78.78-.78 2.05 0 2.83L4 21.41c.39.39.9.59 1.41.59.51 0 1.02-.2 1.41-.59l7.78-7.78 2.81-2.81c.8-.78.8-2.07 0-2.86zM5.41 20L4 18.59l7.72-7.72 1.47 1.35L5.41 20z\"/>\n",
              "  </svg>\n",
              "      </button>\n",
              "      \n",
              "  <style>\n",
              "    .colab-df-container {\n",
              "      display:flex;\n",
              "      flex-wrap:wrap;\n",
              "      gap: 12px;\n",
              "    }\n",
              "\n",
              "    .colab-df-convert {\n",
              "      background-color: #E8F0FE;\n",
              "      border: none;\n",
              "      border-radius: 50%;\n",
              "      cursor: pointer;\n",
              "      display: none;\n",
              "      fill: #1967D2;\n",
              "      height: 32px;\n",
              "      padding: 0 0 0 0;\n",
              "      width: 32px;\n",
              "    }\n",
              "\n",
              "    .colab-df-convert:hover {\n",
              "      background-color: #E2EBFA;\n",
              "      box-shadow: 0px 1px 2px rgba(60, 64, 67, 0.3), 0px 1px 3px 1px rgba(60, 64, 67, 0.15);\n",
              "      fill: #174EA6;\n",
              "    }\n",
              "\n",
              "    [theme=dark] .colab-df-convert {\n",
              "      background-color: #3B4455;\n",
              "      fill: #D2E3FC;\n",
              "    }\n",
              "\n",
              "    [theme=dark] .colab-df-convert:hover {\n",
              "      background-color: #434B5C;\n",
              "      box-shadow: 0px 1px 3px 1px rgba(0, 0, 0, 0.15);\n",
              "      filter: drop-shadow(0px 1px 2px rgba(0, 0, 0, 0.3));\n",
              "      fill: #FFFFFF;\n",
              "    }\n",
              "  </style>\n",
              "\n",
              "      <script>\n",
              "        const buttonEl =\n",
              "          document.querySelector('#df-7c1347d3-928a-481c-8a49-8898f286b0fe button.colab-df-convert');\n",
              "        buttonEl.style.display =\n",
              "          google.colab.kernel.accessAllowed ? 'block' : 'none';\n",
              "\n",
              "        async function convertToInteractive(key) {\n",
              "          const element = document.querySelector('#df-7c1347d3-928a-481c-8a49-8898f286b0fe');\n",
              "          const dataTable =\n",
              "            await google.colab.kernel.invokeFunction('convertToInteractive',\n",
              "                                                     [key], {});\n",
              "          if (!dataTable) return;\n",
              "\n",
              "          const docLinkHtml = 'Like what you see? Visit the ' +\n",
              "            '<a target=\"_blank\" href=https://colab.research.google.com/notebooks/data_table.ipynb>data table notebook</a>'\n",
              "            + ' to learn more about interactive tables.';\n",
              "          element.innerHTML = '';\n",
              "          dataTable['output_type'] = 'display_data';\n",
              "          await google.colab.output.renderOutput(dataTable, element);\n",
              "          const docLink = document.createElement('div');\n",
              "          docLink.innerHTML = docLinkHtml;\n",
              "          element.appendChild(docLink);\n",
              "        }\n",
              "      </script>\n",
              "    </div>\n",
              "  </div>\n",
              "  "
            ]
          },
          "metadata": {},
          "execution_count": 6
        }
      ]
    },
    {
      "cell_type": "markdown",
      "source": [
        "# **3. DATA UNDERSTANDING**"
      ],
      "metadata": {
        "id": "2QNbQrEBS_XY"
      }
    },
    {
      "cell_type": "code",
      "source": [
        "# previewing the number of records in our titanic dataset\n",
        "print('Our titanic train dataset has:'+str(titanic.shape))"
      ],
      "metadata": {
        "colab": {
          "base_uri": "https://localhost:8080/"
        },
        "id": "xf0BNaMAS3Hr",
        "outputId": "29d33ff3-a2e6-461d-ac73-1246b926431a"
      },
      "execution_count": 7,
      "outputs": [
        {
          "output_type": "stream",
          "name": "stdout",
          "text": [
            "Our titanic train dataset has:(891, 12)\n"
          ]
        }
      ]
    },
    {
      "cell_type": "code",
      "source": [
        "# previewing the datatypes of each column\n",
        "titanic.dtypes"
      ],
      "metadata": {
        "colab": {
          "base_uri": "https://localhost:8080/"
        },
        "id": "UrujNeeMTrtu",
        "outputId": "eba90d98-9334-47ee-b5d1-61c209196524"
      },
      "execution_count": 8,
      "outputs": [
        {
          "output_type": "execute_result",
          "data": {
            "text/plain": [
              "PassengerId      int64\n",
              "Survived         int64\n",
              "Pclass           int64\n",
              "Name            object\n",
              "Sex             object\n",
              "Age            float64\n",
              "SibSp            int64\n",
              "Parch            int64\n",
              "Ticket          object\n",
              "Fare           float64\n",
              "Cabin           object\n",
              "Embarked        object\n",
              "dtype: object"
            ]
          },
          "metadata": {},
          "execution_count": 8
        }
      ]
    },
    {
      "cell_type": "markdown",
      "source": [
        "From the output, we can see that most of our features have the desired data types"
      ],
      "metadata": {
        "id": "kK2gd3_QUOYB"
      }
    },
    {
      "cell_type": "markdown",
      "source": [
        "# **4. EXTERNAL DATA SOURCE VALIDATION**"
      ],
      "metadata": {
        "id": "V8NQC0_VUa5c"
      }
    },
    {
      "cell_type": "markdown",
      "source": [
        "# **5. DATA CLEANING**"
      ],
      "metadata": {
        "id": "vDwOpF19Uy8w"
      }
    },
    {
      "cell_type": "markdown",
      "source": [
        "Label encoding "
      ],
      "metadata": {
        "id": "NIJJaS_OW2zh"
      }
    },
    {
      "cell_type": "code",
      "source": [
        "#we use label encoding to change the sex and embarked categorical data to integers\n",
        "#  We shall encode the 'sex' and 'embarked' columns to integers\n",
        "# we start by importing the library to be used\n",
        "\n",
        "from sklearn.preprocessing import LabelEncoder\n",
        "\n",
        "encoder=LabelEncoder()\n",
        "\n",
        "titanic['Sex']=encoder.fit_transform(titanic['Sex'])\n",
        "titanic['Embarked'] = titanic['Embarked'].replace({'S':0, 'C':1, 'Q':2})"
      ],
      "metadata": {
        "id": "PVsVsLaVU8_Z"
      },
      "execution_count": 11,
      "outputs": []
    },
    {
      "cell_type": "markdown",
      "source": [
        "# Checking for Missing data"
      ],
      "metadata": {
        "id": "lhhO-xJ0W1UT"
      }
    },
    {
      "cell_type": "code",
      "source": [
        "print(titanic.isnull().sum())"
      ],
      "metadata": {
        "colab": {
          "base_uri": "https://localhost:8080/"
        },
        "id": "UL9t4D_XW0Y6",
        "outputId": "66577e0d-cdcb-4fdf-c3b9-f2d8c60809ca"
      },
      "execution_count": 12,
      "outputs": [
        {
          "output_type": "stream",
          "name": "stdout",
          "text": [
            "PassengerId      0\n",
            "Survived         0\n",
            "Pclass           0\n",
            "Name             0\n",
            "Sex              0\n",
            "Age            177\n",
            "SibSp            0\n",
            "Parch            0\n",
            "Ticket           0\n",
            "Fare             0\n",
            "Cabin          687\n",
            "Embarked         2\n",
            "dtype: int64\n"
          ]
        }
      ]
    },
    {
      "cell_type": "markdown",
      "source": [
        "We can see that the cabin, age and embarked columns have missing values.\n",
        "\n",
        "The Cabin column has the highest number of missing values(687), while the age column has 177 and embarked has only 2 missing values\n",
        "\n",
        "however, we shall not drop the missing values for now since they can be useful in further understanding of the data"
      ],
      "metadata": {
        "id": "VOvyMgarXiOL"
      }
    },
    {
      "cell_type": "markdown",
      "source": [
        "# Checking for Outliers"
      ],
      "metadata": {
        "id": "BjiZow0iYLQf"
      }
    },
    {
      "cell_type": "code",
      "source": [
        "# using boxplots to check for outliers\n",
        "# we create a list of columns that we will use for checking the outliers\n",
        "# first, assign the column features to columns and colors for each column boxplot\n",
        "\n",
        "columns = ['PassengerId', 'Survived', 'Pclass', 'Sex', 'Age', 'SibSp',\n",
        "       'Parch', 'Fare', 'Embarked']\n",
        "colors = ['blueviolet', 'darkorange', 'springgreen','fuchsia', 'darkorange', 'blueviolet', 'springgreen']\n",
        "\n",
        "# now, we plot boxplots of the columns to check for outliers\n",
        "#\n",
        "fig, axes = plt.subplots(nrows = 3, ncols = 2, figsize = (14, 8))\n",
        "plt.suptitle('Boxplots', fontsize = 12, y = 0.92, color = 'indigo')\n",
        "for ax, data, column, color in zip(axes.flatten(), titanic, columns, colors):\n",
        "  sns.boxplot(titanic[column], ax = ax, color = color)\n",
        "  ax.set_facecolor('white')"
      ],
      "metadata": {
        "colab": {
          "base_uri": "https://localhost:8080/",
          "height": 520
        },
        "id": "pDbn0PckYK_j",
        "outputId": "c80e1530-4ca8-4e1b-81c9-f6b61f3f9b6a"
      },
      "execution_count": 38,
      "outputs": [
        {
          "output_type": "display_data",
          "data": {
            "text/plain": [
              "<Figure size 1008x576 with 6 Axes>"
            ],
            "image/png": "[encoded data removed]"
          },
          "metadata": {
            "needs_background": "light"
          }
        }
      ]
    },
    {
      "cell_type": "markdown",
      "source": [
        "The boxplot outputs reveal that the Age and SibSp(Siblings and spouses) columns have outliers"
      ],
      "metadata": {
        "id": "i_y5syvreYwS"
      }
    },
    {
      "cell_type": "markdown",
      "source": [
        "# Checking for Anomalies"
      ],
      "metadata": {
        "id": "9hbh0yL4epkc"
      }
    },
    {
      "cell_type": "code",
      "source": [
        "# we check the duplicates in our titanic train dataset\n",
        "print(titanic.duplicated().any())"
      ],
      "metadata": {
        "colab": {
          "base_uri": "https://localhost:8080/"
        },
        "id": "iyvft1qZe5h8",
        "outputId": "beeb9386-6ced-411c-8a60-c9f0c3509e8e"
      },
      "execution_count": 39,
      "outputs": [
        {
          "output_type": "stream",
          "name": "stdout",
          "text": [
            "False\n"
          ]
        }
      ]
    },
    {
      "cell_type": "markdown",
      "source": [
        "We do not have any duplicates in our dataset hence we proceed with our analysis"
      ],
      "metadata": {
        "id": "5RrUckXjfJYg"
      }
    },
    {
      "cell_type": "markdown",
      "source": [
        "Dropping Unnecessary columns in our dataset"
      ],
      "metadata": {
        "id": "beUENI7efV04"
      }
    },
    {
      "cell_type": "markdown",
      "source": [
        "Columns such as Cabin, Ticket, PassengerId, Name and Fare are not important for our analysis, we therefor drop them"
      ],
      "metadata": {
        "id": "JqRtOkyofuJU"
      }
    },
    {
      "cell_type": "code",
      "source": [
        "train=titanic.drop(['PassengerId','Name','Cabin', 'Fare','Ticket'], axis=1)\n",
        "train.head()"
      ],
      "metadata": {
        "colab": {
          "base_uri": "https://localhost:8080/",
          "height": 206
        },
        "id": "ySE5jZi6gEXA",
        "outputId": "c38e75aa-ecbe-4bf2-9cc6-0532a9580268"
      },
      "execution_count": 40,
      "outputs": [
        {
          "output_type": "execute_result",
          "data": {
            "text/plain": [
              "   Survived  Pclass  Sex   Age  SibSp  Parch  Embarked\n",
              "0         0       3    1  22.0      1      0       0.0\n",
              "1         1       1    0  38.0      1      0       1.0\n",
              "2         1       3    0  26.0      0      0       0.0\n",
              "3         1       1    0  35.0      1      0       0.0\n",
              "4         0       3    1  35.0      0      0       0.0"
            ],
            "text/html": [
              "\n",
              "  <div id=\"df-25b80332-644d-4312-826a-eea757d57663\">\n",
              "    <div class=\"colab-df-container\">\n",
              "      <div>\n",
              "<style scoped>\n",
              "    .dataframe tbody tr th:only-of-type {\n",
              "        vertical-align: middle;\n",
              "    }\n",
              "\n",
              "    .dataframe tbody tr th {\n",
              "        vertical-align: top;\n",
              "    }\n",
              "\n",
              "    .dataframe thead th {\n",
              "        text-align: right;\n",
              "    }\n",
              "</style>\n",
              "<table border=\"1\" class=\"dataframe\">\n",
              "  <thead>\n",
              "    <tr style=\"text-align: right;\">\n",
              "      <th></th>\n",
              "      <th>Survived</th>\n",
              "      <th>Pclass</th>\n",
              "      <th>Sex</th>\n",
              "      <th>Age</th>\n",
              "      <th>SibSp</th>\n",
              "      <th>Parch</th>\n",
              "      <th>Embarked</th>\n",
              "    </tr>\n",
              "  </thead>\n",
              "  <tbody>\n",
              "    <tr>\n",
              "      <th>0</th>\n",
              "      <td>0</td>\n",
              "      <td>3</td>\n",
              "      <td>1</td>\n",
              "      <td>22.0</td>\n",
              "      <td>1</td>\n",
              "      <td>0</td>\n",
              "      <td>0.0</td>\n",
              "    </tr>\n",
              "    <tr>\n",
              "      <th>1</th>\n",
              "      <td>1</td>\n",
              "      <td>1</td>\n",
              "      <td>0</td>\n",
              "      <td>38.0</td>\n",
              "      <td>1</td>\n",
              "      <td>0</td>\n",
              "      <td>1.0</td>\n",
              "    </tr>\n",
              "    <tr>\n",
              "      <th>2</th>\n",
              "      <td>1</td>\n",
              "      <td>3</td>\n",
              "      <td>0</td>\n",
              "      <td>26.0</td>\n",
              "      <td>0</td>\n",
              "      <td>0</td>\n",
              "      <td>0.0</td>\n",
              "    </tr>\n",
              "    <tr>\n",
              "      <th>3</th>\n",
              "      <td>1</td>\n",
              "      <td>1</td>\n",
              "      <td>0</td>\n",
              "      <td>35.0</td>\n",
              "      <td>1</td>\n",
              "      <td>0</td>\n",
              "      <td>0.0</td>\n",
              "    </tr>\n",
              "    <tr>\n",
              "      <th>4</th>\n",
              "      <td>0</td>\n",
              "      <td>3</td>\n",
              "      <td>1</td>\n",
              "      <td>35.0</td>\n",
              "      <td>0</td>\n",
              "      <td>0</td>\n",
              "      <td>0.0</td>\n",
              "    </tr>\n",
              "  </tbody>\n",
              "</table>\n",
              "</div>\n",
              "      <button class=\"colab-df-convert\" onclick=\"convertToInteractive('df-25b80332-644d-4312-826a-eea757d57663')\"\n",
              "              title=\"Convert this dataframe to an interactive table.\"\n",
              "              style=\"display:none;\">\n",
              "        \n",
              "  <svg xmlns=\"http://www.w3.org/2000/svg\" height=\"24px\"viewBox=\"0 0 24 24\"\n",
              "       width=\"24px\">\n",
              "    <path d=\"M0 0h24v24H0V0z\" fill=\"none\"/>\n",
              "    <path d=\"M18.56 5.44l.94 2.06.94-2.06 2.06-.94-2.06-.94-.94-2.06-.94 2.06-2.06.94zm-11 1L8.5 8.5l.94-2.06 2.06-.94-2.06-.94L8.5 2.5l-.94 2.06-2.06.94zm10 10l.94 2.06.94-2.06 2.06-.94-2.06-.94-.94-2.06-.94 2.06-2.06.94z\"/><path d=\"M17.41 7.96l-1.37-1.37c-.4-.4-.92-.59-1.43-.59-.52 0-1.04.2-1.43.59L10.3 9.45l-7.72 7.72c-.78.78-.78 2.05 0 2.83L4 21.41c.39.39.9.59 1.41.59.51 0 1.02-.2 1.41-.59l7.78-7.78 2.81-2.81c.8-.78.8-2.07 0-2.86zM5.41 20L4 18.59l7.72-7.72 1.47 1.35L5.41 20z\"/>\n",
              "  </svg>\n",
              "      </button>\n",
              "      \n",
              "  <style>\n",
              "    .colab-df-container {\n",
              "      display:flex;\n",
              "      flex-wrap:wrap;\n",
              "      gap: 12px;\n",
              "    }\n",
              "\n",
              "    .colab-df-convert {\n",
              "      background-color: #E8F0FE;\n",
              "      border: none;\n",
              "      border-radius: 50%;\n",
              "      cursor: pointer;\n",
              "      display: none;\n",
              "      fill: #1967D2;\n",
              "      height: 32px;\n",
              "      padding: 0 0 0 0;\n",
              "      width: 32px;\n",
              "    }\n",
              "\n",
              "    .colab-df-convert:hover {\n",
              "      background-color: #E2EBFA;\n",
              "      box-shadow: 0px 1px 2px rgba(60, 64, 67, 0.3), 0px 1px 3px 1px rgba(60, 64, 67, 0.15);\n",
              "      fill: #174EA6;\n",
              "    }\n",
              "\n",
              "    [theme=dark] .colab-df-convert {\n",
              "      background-color: #3B4455;\n",
              "      fill: #D2E3FC;\n",
              "    }\n",
              "\n",
              "    [theme=dark] .colab-df-convert:hover {\n",
              "      background-color: #434B5C;\n",
              "      box-shadow: 0px 1px 3px 1px rgba(0, 0, 0, 0.15);\n",
              "      filter: drop-shadow(0px 1px 2px rgba(0, 0, 0, 0.3));\n",
              "      fill: #FFFFFF;\n",
              "    }\n",
              "  </style>\n",
              "\n",
              "      <script>\n",
              "        const buttonEl =\n",
              "          document.querySelector('#df-25b80332-644d-4312-826a-eea757d57663 button.colab-df-convert');\n",
              "        buttonEl.style.display =\n",
              "          google.colab.kernel.accessAllowed ? 'block' : 'none';\n",
              "\n",
              "        async function convertToInteractive(key) {\n",
              "          const element = document.querySelector('#df-25b80332-644d-4312-826a-eea757d57663');\n",
              "          const dataTable =\n",
              "            await google.colab.kernel.invokeFunction('convertToInteractive',\n",
              "                                                     [key], {});\n",
              "          if (!dataTable) return;\n",
              "\n",
              "          const docLinkHtml = 'Like what you see? Visit the ' +\n",
              "            '<a target=\"_blank\" href=https://colab.research.google.com/notebooks/data_table.ipynb>data table notebook</a>'\n",
              "            + ' to learn more about interactive tables.';\n",
              "          element.innerHTML = '';\n",
              "          dataTable['output_type'] = 'display_data';\n",
              "          await google.colab.output.renderOutput(dataTable, element);\n",
              "          const docLink = document.createElement('div');\n",
              "          docLink.innerHTML = docLinkHtml;\n",
              "          element.appendChild(docLink);\n",
              "        }\n",
              "      </script>\n",
              "    </div>\n",
              "  </div>\n",
              "  "
            ]
          },
          "metadata": {},
          "execution_count": 40
        }
      ]
    },
    {
      "cell_type": "code",
      "source": [
        "# previewing the missing values in the new dataset\n",
        "print(train.isnull().sum())"
      ],
      "metadata": {
        "colab": {
          "base_uri": "https://localhost:8080/"
        },
        "id": "rJQ3ke27gr-n",
        "outputId": "905af289-4f47-45c4-f66e-602fbaaed53e"
      },
      "execution_count": 83,
      "outputs": [
        {
          "output_type": "stream",
          "name": "stdout",
          "text": [
            "Survived    0\n",
            "Pclass      0\n",
            "Sex         0\n",
            "Age         0\n",
            "SibSp       0\n",
            "Parch       0\n",
            "Embarked    2\n",
            "dtype: int64\n"
          ]
        }
      ]
    },
    {
      "cell_type": "markdown",
      "source": [
        "As we saw above, the age and Embarked columns still have the missing values. we have dropped the Cabin column because it was not essential for our analysis.\n",
        "\n",
        "since the embarked column has only 2 missing values, we shall drop those values"
      ],
      "metadata": {
        "id": "BsUgFY6yhXSA"
      }
    },
    {
      "cell_type": "code",
      "source": [
        "titan=train.dropna(subset=['Embarked'])\n",
        "titan.Embarked.nunique()"
      ],
      "metadata": {
        "colab": {
          "base_uri": "https://localhost:8080/"
        },
        "id": "PIMMWnsEhWa6",
        "outputId": "734ef32e-a7e5-4ac9-c7b5-1b065a9bdefa"
      },
      "execution_count": 100,
      "outputs": [
        {
          "output_type": "execute_result",
          "data": {
            "text/plain": [
              "3"
            ]
          },
          "metadata": {},
          "execution_count": 100
        }
      ]
    },
    {
      "cell_type": "markdown",
      "source": [
        "It means we have only 3 unique entries in the Embarked column, that is, C for Cherbourg, S for Southampton and Q for Queentown"
      ],
      "metadata": {
        "id": "-V-TAnsfiEnX"
      }
    },
    {
      "cell_type": "markdown",
      "source": [
        "# **6. EXPLORATORY DATA ANALYSIS**"
      ],
      "metadata": {
        "id": "LknZIg6Xia3y"
      }
    },
    {
      "cell_type": "code",
      "source": [
        "# let's preview the head of our new dataset\n",
        "titan.head()"
      ],
      "metadata": {
        "colab": {
          "base_uri": "https://localhost:8080/",
          "height": 206
        },
        "id": "cXERKZ4rnWXe",
        "outputId": "19583272-9cde-420a-a561-06c3ca2912d2"
      },
      "execution_count": 101,
      "outputs": [
        {
          "output_type": "execute_result",
          "data": {
            "text/plain": [
              "   Survived  Pclass  Sex   Age  SibSp  Parch  Embarked\n",
              "0         0       3    1  22.0      1      0       0.0\n",
              "1         1       1    0  38.0      1      0       1.0\n",
              "2         1       3    0  26.0      0      0       0.0\n",
              "3         1       1    0  35.0      1      0       0.0\n",
              "4         0       3    1  35.0      0      0       0.0"
            ],
            "text/html": [
              "\n",
              "  <div id=\"df-8ab367fe-9042-4916-885e-44879d733cca\">\n",
              "    <div class=\"colab-df-container\">\n",
              "      <div>\n",
              "<style scoped>\n",
              "    .dataframe tbody tr th:only-of-type {\n",
              "        vertical-align: middle;\n",
              "    }\n",
              "\n",
              "    .dataframe tbody tr th {\n",
              "        vertical-align: top;\n",
              "    }\n",
              "\n",
              "    .dataframe thead th {\n",
              "        text-align: right;\n",
              "    }\n",
              "</style>\n",
              "<table border=\"1\" class=\"dataframe\">\n",
              "  <thead>\n",
              "    <tr style=\"text-align: right;\">\n",
              "      <th></th>\n",
              "      <th>Survived</th>\n",
              "      <th>Pclass</th>\n",
              "      <th>Sex</th>\n",
              "      <th>Age</th>\n",
              "      <th>SibSp</th>\n",
              "      <th>Parch</th>\n",
              "      <th>Embarked</th>\n",
              "    </tr>\n",
              "  </thead>\n",
              "  <tbody>\n",
              "    <tr>\n",
              "      <th>0</th>\n",
              "      <td>0</td>\n",
              "      <td>3</td>\n",
              "      <td>1</td>\n",
              "      <td>22.0</td>\n",
              "      <td>1</td>\n",
              "      <td>0</td>\n",
              "      <td>0.0</td>\n",
              "    </tr>\n",
              "    <tr>\n",
              "      <th>1</th>\n",
              "      <td>1</td>\n",
              "      <td>1</td>\n",
              "      <td>0</td>\n",
              "      <td>38.0</td>\n",
              "      <td>1</td>\n",
              "      <td>0</td>\n",
              "      <td>1.0</td>\n",
              "    </tr>\n",
              "    <tr>\n",
              "      <th>2</th>\n",
              "      <td>1</td>\n",
              "      <td>3</td>\n",
              "      <td>0</td>\n",
              "      <td>26.0</td>\n",
              "      <td>0</td>\n",
              "      <td>0</td>\n",
              "      <td>0.0</td>\n",
              "    </tr>\n",
              "    <tr>\n",
              "      <th>3</th>\n",
              "      <td>1</td>\n",
              "      <td>1</td>\n",
              "      <td>0</td>\n",
              "      <td>35.0</td>\n",
              "      <td>1</td>\n",
              "      <td>0</td>\n",
              "      <td>0.0</td>\n",
              "    </tr>\n",
              "    <tr>\n",
              "      <th>4</th>\n",
              "      <td>0</td>\n",
              "      <td>3</td>\n",
              "      <td>1</td>\n",
              "      <td>35.0</td>\n",
              "      <td>0</td>\n",
              "      <td>0</td>\n",
              "      <td>0.0</td>\n",
              "    </tr>\n",
              "  </tbody>\n",
              "</table>\n",
              "</div>\n",
              "      <button class=\"colab-df-convert\" onclick=\"convertToInteractive('df-8ab367fe-9042-4916-885e-44879d733cca')\"\n",
              "              title=\"Convert this dataframe to an interactive table.\"\n",
              "              style=\"display:none;\">\n",
              "        \n",
              "  <svg xmlns=\"http://www.w3.org/2000/svg\" height=\"24px\"viewBox=\"0 0 24 24\"\n",
              "       width=\"24px\">\n",
              "    <path d=\"M0 0h24v24H0V0z\" fill=\"none\"/>\n",
              "    <path d=\"M18.56 5.44l.94 2.06.94-2.06 2.06-.94-2.06-.94-.94-2.06-.94 2.06-2.06.94zm-11 1L8.5 8.5l.94-2.06 2.06-.94-2.06-.94L8.5 2.5l-.94 2.06-2.06.94zm10 10l.94 2.06.94-2.06 2.06-.94-2.06-.94-.94-2.06-.94 2.06-2.06.94z\"/><path d=\"M17.41 7.96l-1.37-1.37c-.4-.4-.92-.59-1.43-.59-.52 0-1.04.2-1.43.59L10.3 9.45l-7.72 7.72c-.78.78-.78 2.05 0 2.83L4 21.41c.39.39.9.59 1.41.59.51 0 1.02-.2 1.41-.59l7.78-7.78 2.81-2.81c.8-.78.8-2.07 0-2.86zM5.41 20L4 18.59l7.72-7.72 1.47 1.35L5.41 20z\"/>\n",
              "  </svg>\n",
              "      </button>\n",
              "      \n",
              "  <style>\n",
              "    .colab-df-container {\n",
              "      display:flex;\n",
              "      flex-wrap:wrap;\n",
              "      gap: 12px;\n",
              "    }\n",
              "\n",
              "    .colab-df-convert {\n",
              "      background-color: #E8F0FE;\n",
              "      border: none;\n",
              "      border-radius: 50%;\n",
              "      cursor: pointer;\n",
              "      display: none;\n",
              "      fill: #1967D2;\n",
              "      height: 32px;\n",
              "      padding: 0 0 0 0;\n",
              "      width: 32px;\n",
              "    }\n",
              "\n",
              "    .colab-df-convert:hover {\n",
              "      background-color: #E2EBFA;\n",
              "      box-shadow: 0px 1px 2px rgba(60, 64, 67, 0.3), 0px 1px 3px 1px rgba(60, 64, 67, 0.15);\n",
              "      fill: #174EA6;\n",
              "    }\n",
              "\n",
              "    [theme=dark] .colab-df-convert {\n",
              "      background-color: #3B4455;\n",
              "      fill: #D2E3FC;\n",
              "    }\n",
              "\n",
              "    [theme=dark] .colab-df-convert:hover {\n",
              "      background-color: #434B5C;\n",
              "      box-shadow: 0px 1px 3px 1px rgba(0, 0, 0, 0.15);\n",
              "      filter: drop-shadow(0px 1px 2px rgba(0, 0, 0, 0.3));\n",
              "      fill: #FFFFFF;\n",
              "    }\n",
              "  </style>\n",
              "\n",
              "      <script>\n",
              "        const buttonEl =\n",
              "          document.querySelector('#df-8ab367fe-9042-4916-885e-44879d733cca button.colab-df-convert');\n",
              "        buttonEl.style.display =\n",
              "          google.colab.kernel.accessAllowed ? 'block' : 'none';\n",
              "\n",
              "        async function convertToInteractive(key) {\n",
              "          const element = document.querySelector('#df-8ab367fe-9042-4916-885e-44879d733cca');\n",
              "          const dataTable =\n",
              "            await google.colab.kernel.invokeFunction('convertToInteractive',\n",
              "                                                     [key], {});\n",
              "          if (!dataTable) return;\n",
              "\n",
              "          const docLinkHtml = 'Like what you see? Visit the ' +\n",
              "            '<a target=\"_blank\" href=https://colab.research.google.com/notebooks/data_table.ipynb>data table notebook</a>'\n",
              "            + ' to learn more about interactive tables.';\n",
              "          element.innerHTML = '';\n",
              "          dataTable['output_type'] = 'display_data';\n",
              "          await google.colab.output.renderOutput(dataTable, element);\n",
              "          const docLink = document.createElement('div');\n",
              "          docLink.innerHTML = docLinkHtml;\n",
              "          element.appendChild(docLink);\n",
              "        }\n",
              "      </script>\n",
              "    </div>\n",
              "  </div>\n",
              "  "
            ]
          },
          "metadata": {},
          "execution_count": 101
        }
      ]
    },
    {
      "cell_type": "code",
      "source": [
        "# previewing the statistical summary of our new dataset\n",
        "titan.describe()"
      ],
      "metadata": {
        "colab": {
          "base_uri": "https://localhost:8080/",
          "height": 300
        },
        "id": "5uMFQoxpignR",
        "outputId": "23c8246f-8b80-4eec-dda9-d9c7f83b0844"
      },
      "execution_count": 102,
      "outputs": [
        {
          "output_type": "execute_result",
          "data": {
            "text/plain": [
              "         Survived      Pclass         Sex         Age       SibSp       Parch  \\\n",
              "count  889.000000  889.000000  889.000000  889.000000  889.000000  889.000000   \n",
              "mean     0.382452    2.311586    0.649044   29.159921    0.524184    0.382452   \n",
              "std      0.486260    0.834700    0.477538   13.157050    1.103705    0.806761   \n",
              "min      0.000000    1.000000    0.000000    0.420000    0.000000    0.000000   \n",
              "25%      0.000000    2.000000    0.000000   22.000000    0.000000    0.000000   \n",
              "50%      0.000000    3.000000    1.000000   26.000000    0.000000    0.000000   \n",
              "75%      1.000000    3.000000    1.000000   36.500000    1.000000    0.000000   \n",
              "max      1.000000    3.000000    1.000000   80.000000    8.000000    6.000000   \n",
              "\n",
              "         Embarked  \n",
              "count  889.000000  \n",
              "mean     0.362205  \n",
              "std      0.636157  \n",
              "min      0.000000  \n",
              "25%      0.000000  \n",
              "50%      0.000000  \n",
              "75%      1.000000  \n",
              "max      2.000000  "
            ],
            "text/html": [
              "\n",
              "  <div id=\"df-ffd6efd2-b6e8-4938-bf87-1ecc2a6cd566\">\n",
              "    <div class=\"colab-df-container\">\n",
              "      <div>\n",
              "<style scoped>\n",
              "    .dataframe tbody tr th:only-of-type {\n",
              "        vertical-align: middle;\n",
              "    }\n",
              "\n",
              "    .dataframe tbody tr th {\n",
              "        vertical-align: top;\n",
              "    }\n",
              "\n",
              "    .dataframe thead th {\n",
              "        text-align: right;\n",
              "    }\n",
              "</style>\n",
              "<table border=\"1\" class=\"dataframe\">\n",
              "  <thead>\n",
              "    <tr style=\"text-align: right;\">\n",
              "      <th></th>\n",
              "      <th>Survived</th>\n",
              "      <th>Pclass</th>\n",
              "      <th>Sex</th>\n",
              "      <th>Age</th>\n",
              "      <th>SibSp</th>\n",
              "      <th>Parch</th>\n",
              "      <th>Embarked</th>\n",
              "    </tr>\n",
              "  </thead>\n",
              "  <tbody>\n",
              "    <tr>\n",
              "      <th>count</th>\n",
              "      <td>889.000000</td>\n",
              "      <td>889.000000</td>\n",
              "      <td>889.000000</td>\n",
              "      <td>889.000000</td>\n",
              "      <td>889.000000</td>\n",
              "      <td>889.000000</td>\n",
              "      <td>889.000000</td>\n",
              "    </tr>\n",
              "    <tr>\n",
              "      <th>mean</th>\n",
              "      <td>0.382452</td>\n",
              "      <td>2.311586</td>\n",
              "      <td>0.649044</td>\n",
              "      <td>29.159921</td>\n",
              "      <td>0.524184</td>\n",
              "      <td>0.382452</td>\n",
              "      <td>0.362205</td>\n",
              "    </tr>\n",
              "    <tr>\n",
              "      <th>std</th>\n",
              "      <td>0.486260</td>\n",
              "      <td>0.834700</td>\n",
              "      <td>0.477538</td>\n",
              "      <td>13.157050</td>\n",
              "      <td>1.103705</td>\n",
              "      <td>0.806761</td>\n",
              "      <td>0.636157</td>\n",
              "    </tr>\n",
              "    <tr>\n",
              "      <th>min</th>\n",
              "      <td>0.000000</td>\n",
              "      <td>1.000000</td>\n",
              "      <td>0.000000</td>\n",
              "      <td>0.420000</td>\n",
              "      <td>0.000000</td>\n",
              "      <td>0.000000</td>\n",
              "      <td>0.000000</td>\n",
              "    </tr>\n",
              "    <tr>\n",
              "      <th>25%</th>\n",
              "      <td>0.000000</td>\n",
              "      <td>2.000000</td>\n",
              "      <td>0.000000</td>\n",
              "      <td>22.000000</td>\n",
              "      <td>0.000000</td>\n",
              "      <td>0.000000</td>\n",
              "      <td>0.000000</td>\n",
              "    </tr>\n",
              "    <tr>\n",
              "      <th>50%</th>\n",
              "      <td>0.000000</td>\n",
              "      <td>3.000000</td>\n",
              "      <td>1.000000</td>\n",
              "      <td>26.000000</td>\n",
              "      <td>0.000000</td>\n",
              "      <td>0.000000</td>\n",
              "      <td>0.000000</td>\n",
              "    </tr>\n",
              "    <tr>\n",
              "      <th>75%</th>\n",
              "      <td>1.000000</td>\n",
              "      <td>3.000000</td>\n",
              "      <td>1.000000</td>\n",
              "      <td>36.500000</td>\n",
              "      <td>1.000000</td>\n",
              "      <td>0.000000</td>\n",
              "      <td>1.000000</td>\n",
              "    </tr>\n",
              "    <tr>\n",
              "      <th>max</th>\n",
              "      <td>1.000000</td>\n",
              "      <td>3.000000</td>\n",
              "      <td>1.000000</td>\n",
              "      <td>80.000000</td>\n",
              "      <td>8.000000</td>\n",
              "      <td>6.000000</td>\n",
              "      <td>2.000000</td>\n",
              "    </tr>\n",
              "  </tbody>\n",
              "</table>\n",
              "</div>\n",
              "      <button class=\"colab-df-convert\" onclick=\"convertToInteractive('df-ffd6efd2-b6e8-4938-bf87-1ecc2a6cd566')\"\n",
              "              title=\"Convert this dataframe to an interactive table.\"\n",
              "              style=\"display:none;\">\n",
              "        \n",
              "  <svg xmlns=\"http://www.w3.org/2000/svg\" height=\"24px\"viewBox=\"0 0 24 24\"\n",
              "       width=\"24px\">\n",
              "    <path d=\"M0 0h24v24H0V0z\" fill=\"none\"/>\n",
              "    <path d=\"M18.56 5.44l.94 2.06.94-2.06 2.06-.94-2.06-.94-.94-2.06-.94 2.06-2.06.94zm-11 1L8.5 8.5l.94-2.06 2.06-.94-2.06-.94L8.5 2.5l-.94 2.06-2.06.94zm10 10l.94 2.06.94-2.06 2.06-.94-2.06-.94-.94-2.06-.94 2.06-2.06.94z\"/><path d=\"M17.41 7.96l-1.37-1.37c-.4-.4-.92-.59-1.43-.59-.52 0-1.04.2-1.43.59L10.3 9.45l-7.72 7.72c-.78.78-.78 2.05 0 2.83L4 21.41c.39.39.9.59 1.41.59.51 0 1.02-.2 1.41-.59l7.78-7.78 2.81-2.81c.8-.78.8-2.07 0-2.86zM5.41 20L4 18.59l7.72-7.72 1.47 1.35L5.41 20z\"/>\n",
              "  </svg>\n",
              "      </button>\n",
              "      \n",
              "  <style>\n",
              "    .colab-df-container {\n",
              "      display:flex;\n",
              "      flex-wrap:wrap;\n",
              "      gap: 12px;\n",
              "    }\n",
              "\n",
              "    .colab-df-convert {\n",
              "      background-color: #E8F0FE;\n",
              "      border: none;\n",
              "      border-radius: 50%;\n",
              "      cursor: pointer;\n",
              "      display: none;\n",
              "      fill: #1967D2;\n",
              "      height: 32px;\n",
              "      padding: 0 0 0 0;\n",
              "      width: 32px;\n",
              "    }\n",
              "\n",
              "    .colab-df-convert:hover {\n",
              "      background-color: #E2EBFA;\n",
              "      box-shadow: 0px 1px 2px rgba(60, 64, 67, 0.3), 0px 1px 3px 1px rgba(60, 64, 67, 0.15);\n",
              "      fill: #174EA6;\n",
              "    }\n",
              "\n",
              "    [theme=dark] .colab-df-convert {\n",
              "      background-color: #3B4455;\n",
              "      fill: #D2E3FC;\n",
              "    }\n",
              "\n",
              "    [theme=dark] .colab-df-convert:hover {\n",
              "      background-color: #434B5C;\n",
              "      box-shadow: 0px 1px 3px 1px rgba(0, 0, 0, 0.15);\n",
              "      filter: drop-shadow(0px 1px 2px rgba(0, 0, 0, 0.3));\n",
              "      fill: #FFFFFF;\n",
              "    }\n",
              "  </style>\n",
              "\n",
              "      <script>\n",
              "        const buttonEl =\n",
              "          document.querySelector('#df-ffd6efd2-b6e8-4938-bf87-1ecc2a6cd566 button.colab-df-convert');\n",
              "        buttonEl.style.display =\n",
              "          google.colab.kernel.accessAllowed ? 'block' : 'none';\n",
              "\n",
              "        async function convertToInteractive(key) {\n",
              "          const element = document.querySelector('#df-ffd6efd2-b6e8-4938-bf87-1ecc2a6cd566');\n",
              "          const dataTable =\n",
              "            await google.colab.kernel.invokeFunction('convertToInteractive',\n",
              "                                                     [key], {});\n",
              "          if (!dataTable) return;\n",
              "\n",
              "          const docLinkHtml = 'Like what you see? Visit the ' +\n",
              "            '<a target=\"_blank\" href=https://colab.research.google.com/notebooks/data_table.ipynb>data table notebook</a>'\n",
              "            + ' to learn more about interactive tables.';\n",
              "          element.innerHTML = '';\n",
              "          dataTable['output_type'] = 'display_data';\n",
              "          await google.colab.output.renderOutput(dataTable, element);\n",
              "          const docLink = document.createElement('div');\n",
              "          docLink.innerHTML = docLinkHtml;\n",
              "          element.appendChild(docLink);\n",
              "        }\n",
              "      </script>\n",
              "    </div>\n",
              "  </div>\n",
              "  "
            ]
          },
          "metadata": {},
          "execution_count": 102
        }
      ]
    },
    {
      "cell_type": "code",
      "source": [
        "# plotting a cross table to evaluate the gender survival\n",
        "from scipy import stats\n",
        "\n",
        "gender=pd.crosstab(titan['Sex'], titan['Survived'])\n",
        "print(gender)\n",
        "\n",
        "gender.plot(kind = 'bar', title = 'Male vs female survival')\n"
      ],
      "metadata": {
        "colab": {
          "base_uri": "https://localhost:8080/",
          "height": 379
        },
        "id": "VFG2BwVVjuj_",
        "outputId": "111e045d-66fa-4dc5-88f6-ade9195ff666"
      },
      "execution_count": 103,
      "outputs": [
        {
          "output_type": "stream",
          "name": "stdout",
          "text": [
            "Survived    0    1\n",
            "Sex               \n",
            "0          81  231\n",
            "1         468  109\n"
          ]
        },
        {
          "output_type": "execute_result",
          "data": {
            "text/plain": [
              "<matplotlib.axes._subplots.AxesSubplot at 0x7fe923fe1f10>"
            ]
          },
          "metadata": {},
          "execution_count": 103
        },
        {
          "output_type": "display_data",
          "data": {
            "text/plain": [
              "<Figure size 432x288 with 1 Axes>"
            ],
            "image/png": "[encoded data removed]"
          },
          "metadata": {
            "needs_background": "light"
          }
        }
      ]
    },
    {
      "cell_type": "markdown",
      "source": [
        "The output above reveals that the number of males who survived are more than the number of females"
      ],
      "metadata": {
        "id": "67ZxUPFFpUWx"
      }
    },
    {
      "cell_type": "code",
      "source": [
        "# plotting the crosst tab for the relationship between embarked and survival\n",
        "embarked = pd.crosstab(titan['Embarked'],titan['Survived'])\n",
        "print(embarked)\n",
        "\n",
        "embarked.plot(kind = 'bar', title = 'plot of embarked against survival')"
      ],
      "metadata": {
        "colab": {
          "base_uri": "https://localhost:8080/",
          "height": 405
        },
        "id": "wW0kJ6ntpTcq",
        "outputId": "601b73f9-3eda-4c82-f61c-0ae38bf3c5aa"
      },
      "execution_count": 105,
      "outputs": [
        {
          "output_type": "stream",
          "name": "stdout",
          "text": [
            "Survived    0    1\n",
            "Embarked          \n",
            "0.0       427  217\n",
            "1.0        75   93\n",
            "2.0        47   30\n"
          ]
        },
        {
          "output_type": "execute_result",
          "data": {
            "text/plain": [
              "<matplotlib.axes._subplots.AxesSubplot at 0x7fe923e6c390>"
            ]
          },
          "metadata": {},
          "execution_count": 105
        },
        {
          "output_type": "display_data",
          "data": {
            "text/plain": [
              "<Figure size 432x288 with 1 Axes>"
            ],
            "image/png": "[encoded data removed]"
          },
          "metadata": {
            "needs_background": "light"
          }
        }
      ]
    },
    {
      "cell_type": "markdown",
      "source": [
        "S=0, C=1, Q=2 \n",
        "\n",
        "From the output, we can see that Southampton had the highest entries of both survival and those who did not survive"
      ],
      "metadata": {
        "id": "u-l5E5vnrbqq"
      }
    },
    {
      "cell_type": "code",
      "source": [
        "# plotting the crosst tab for the relationship between P-class and survival\n",
        "p_class = pd.crosstab(titan['Pclass'],titan['Survived'])\n",
        "print(p_class)\n",
        "\n",
        "p_class.plot(kind = 'bar', title = 'plot of P-class against survival')"
      ],
      "metadata": {
        "colab": {
          "base_uri": "https://localhost:8080/",
          "height": 396
        },
        "id": "EaKVwSlkuJl1",
        "outputId": "edd7caf4-9e29-4074-bc2d-93fbfdf4867a"
      },
      "execution_count": 104,
      "outputs": [
        {
          "output_type": "stream",
          "name": "stdout",
          "text": [
            "Survived    0    1\n",
            "Pclass            \n",
            "1          80  134\n",
            "2          97   87\n",
            "3         372  119\n"
          ]
        },
        {
          "output_type": "execute_result",
          "data": {
            "text/plain": [
              "<matplotlib.axes._subplots.AxesSubplot at 0x7fe923efd9d0>"
            ]
          },
          "metadata": {},
          "execution_count": 104
        },
        {
          "output_type": "display_data",
          "data": {
            "text/plain": [
              "<Figure size 432x288 with 1 Axes>"
            ],
            "image/png": "[encoded data removed]"
          },
          "metadata": {
            "needs_background": "light"
          }
        }
      ]
    },
    {
      "cell_type": "markdown",
      "source": [
        "The people in the 3rd class are the most affected as high percentage did not survive compared to the first and second class. "
      ],
      "metadata": {
        "id": "kd33ZAFSuhEr"
      }
    },
    {
      "cell_type": "code",
      "source": [
        "# plotting the crosst tab for the relationship between Parent/children and survival\n",
        "parch= pd.crosstab(titan['Parch'],titan['Survived'])\n",
        "print(parch)\n",
        "\n",
        "parch.plot(kind = 'bar', title = 'plot of P-class against survival')"
      ],
      "metadata": {
        "colab": {
          "base_uri": "https://localhost:8080/",
          "height": 466
        },
        "id": "1fo6J_QPusUr",
        "outputId": "0b3c2770-1e04-4bdf-e601-d4c268ad09ac"
      },
      "execution_count": 106,
      "outputs": [
        {
          "output_type": "stream",
          "name": "stdout",
          "text": [
            "Survived    0    1\n",
            "Parch             \n",
            "0         445  231\n",
            "1          53   65\n",
            "2          40   40\n",
            "3           2    3\n",
            "4           4    0\n",
            "5           4    1\n",
            "6           1    0\n"
          ]
        },
        {
          "output_type": "execute_result",
          "data": {
            "text/plain": [
              "<matplotlib.axes._subplots.AxesSubplot at 0x7fe923eeafd0>"
            ]
          },
          "metadata": {},
          "execution_count": 106
        },
        {
          "output_type": "display_data",
          "data": {
            "text/plain": [
              "<Figure size 432x288 with 1 Axes>"
            ],
            "image/png": "[encoded data removed]"
          },
          "metadata": {
            "needs_background": "light"
          }
        }
      ]
    },
    {
      "cell_type": "markdown",
      "source": [
        "We can see that those parents without children are the highest who did not survive and also had most of the survival unlike those with many children. The parent/child survival decreases as the number of children increase"
      ],
      "metadata": {
        "id": "b6dTaLcAvkll"
      }
    },
    {
      "cell_type": "code",
      "source": [
        "# plotting the crosst tab for the relationship between Sibling/spouse and survival\n",
        "sp= pd.crosstab(titan['SibSp'],titan['Survived'])\n",
        "print(sp)\n",
        "sp.plot(kind = 'bar', title = 'plot of Sibling/spouse against survival')"
      ],
      "metadata": {
        "colab": {
          "base_uri": "https://localhost:8080/",
          "height": 466
        },
        "id": "EOZb96gWv-HW",
        "outputId": "208fd359-b796-4c1f-bc65-1e88791ce192"
      },
      "execution_count": 107,
      "outputs": [
        {
          "output_type": "stream",
          "name": "stdout",
          "text": [
            "Survived    0    1\n",
            "SibSp             \n",
            "0         398  208\n",
            "1          97  112\n",
            "2          15   13\n",
            "3          12    4\n",
            "4          15    3\n",
            "5           5    0\n",
            "8           7    0\n"
          ]
        },
        {
          "output_type": "execute_result",
          "data": {
            "text/plain": [
              "<matplotlib.axes._subplots.AxesSubplot at 0x7fe923d98390>"
            ]
          },
          "metadata": {},
          "execution_count": 107
        },
        {
          "output_type": "display_data",
          "data": {
            "text/plain": [
              "<Figure size 432x288 with 1 Axes>"
            ],
            "image/png": "[encoded data removed]"
          },
          "metadata": {
            "needs_background": "light"
          }
        }
      ]
    },
    {
      "cell_type": "markdown",
      "source": [
        "Just like the parent/children column, those with no siblings or spouse percentage of those who survived and those who didn't. The value of survival decreases with increase in siblings/spouse"
      ],
      "metadata": {
        "id": "0DaBUg10wcIV"
      }
    },
    {
      "cell_type": "code",
      "source": [
        "# For our age column with a high number of missing values;\n",
        "#First, we plot the distribution of age column to see how age is distribututed before imputing\n",
        "# with the right values\n",
        "# We will workout the code with the dropna() clause to see how the data is distributed\n",
        "# \n",
        "sns.distplot(titan['Age'].dropna(),kde=False,color='blue',bins=40)"
      ],
      "metadata": {
        "colab": {
          "base_uri": "https://localhost:8080/",
          "height": 296
        },
        "id": "pUk_Tbdt4l06",
        "outputId": "98572fc1-4074-464d-fc58-eb3a2dddb80e"
      },
      "execution_count": 108,
      "outputs": [
        {
          "output_type": "execute_result",
          "data": {
            "text/plain": [
              "<matplotlib.axes._subplots.AxesSubplot at 0x7fe923d12490>"
            ]
          },
          "metadata": {},
          "execution_count": 108
        },
        {
          "output_type": "display_data",
          "data": {
            "text/plain": [
              "<Figure size 432x288 with 1 Axes>"
            ],
            "image/png": "[encoded data removed]"
          },
          "metadata": {
            "needs_background": "light"
          }
        }
      ]
    },
    {
      "cell_type": "markdown",
      "source": [
        "The plot above reveals that age is skewed to the left, meaning that the highest percentage of the people on board are between 15-35 years"
      ],
      "metadata": {
        "id": "kaadEesn440I"
      }
    },
    {
      "cell_type": "code",
      "source": [
        "# Second, we plot a boxplot to preview the distribution of age in the different classes\n",
        "# this will help us to figure out the age quantile for each class,\n",
        "# which we shall use iteration to impute the missing values in age column\n",
        "plt.figure(figsize=(10, 7))\n",
        "sns.boxplot(x='Pclass',y='Age',data=titan,palette='Purples')"
      ],
      "metadata": {
        "colab": {
          "base_uri": "https://localhost:8080/",
          "height": 459
        },
        "id": "t98Vr1SG4h6V",
        "outputId": "62091a06-bd49-4786-80ef-e9d64d9de07c"
      },
      "execution_count": 109,
      "outputs": [
        {
          "output_type": "execute_result",
          "data": {
            "text/plain": [
              "<matplotlib.axes._subplots.AxesSubplot at 0x7fe923c19750>"
            ]
          },
          "metadata": {},
          "execution_count": 109
        },
        {
          "output_type": "display_data",
          "data": {
            "text/plain": [
              "<Figure size 720x504 with 1 Axes>"
            ],
            "image/png": "[encoded data removed]"
          },
          "metadata": {
            "needs_background": "light"
          }
        }
      ]
    },
    {
      "cell_type": "markdown",
      "source": [
        "We can see that in the first class, the mean age is around 38, for the second class is 28 and 25 for the third class"
      ],
      "metadata": {
        "id": "nrNAdhxr5-cW"
      }
    },
    {
      "cell_type": "code",
      "source": [
        "# In order to impute the missing values,\n",
        "# we create a fucntion to iterate through the 3 classes\n",
        "# \n",
        "def impute_age(cols):\n",
        "    Age = cols[0]\n",
        "    Pclass = cols[1]\n",
        "    \n",
        "    if pd.isnull(Age):\n",
        "\n",
        "        if Pclass == 1:\n",
        "            return 38\n",
        "\n",
        "        elif Pclass == 2:\n",
        "            return 28\n",
        "\n",
        "        else:\n",
        "            return 25\n",
        "\n",
        "    else:\n",
        "        return Age\n",
        "# Applying the function above\n",
        "titan['Age'] = titan[['Age','Pclass']].apply(impute_age,axis=1) "
      ],
      "metadata": {
        "id": "Re0srXx46mK9"
      },
      "execution_count": 111,
      "outputs": []
    },
    {
      "cell_type": "markdown",
      "source": [
        "# Checking for collinearity of features"
      ],
      "metadata": {
        "id": "IvLH0NYuznMs"
      }
    },
    {
      "cell_type": "code",
      "source": [
        "# we first check the correlation between variables using the correlation matrix\n",
        "corr=titan.corr()\n",
        "print(corr)"
      ],
      "metadata": {
        "colab": {
          "base_uri": "https://localhost:8080/"
        },
        "id": "BnosUOjLztQn",
        "outputId": "1968d3cb-3568-43db-b364-05fe678ea6f0"
      },
      "execution_count": 113,
      "outputs": [
        {
          "output_type": "stream",
          "name": "stdout",
          "text": [
            "          Survived    Pclass       Sex       Age     SibSp     Parch  Embarked\n",
            "Survived  1.000000 -0.335549 -0.541585 -0.055394 -0.034040  0.083151  0.108669\n",
            "Pclass   -0.335549  1.000000  0.127741 -0.397224  0.081656  0.016824  0.043835\n",
            "Sex      -0.541585  0.127741  1.000000  0.084759 -0.116348 -0.247508 -0.118593\n",
            "Age      -0.055394 -0.397224  0.084759  1.000000 -0.241573 -0.172554 -0.035866\n",
            "SibSp    -0.034040  0.081656 -0.116348 -0.241573  1.000000  0.414542 -0.060606\n",
            "Parch     0.083151  0.016824 -0.247508 -0.172554  0.414542  1.000000 -0.079320\n",
            "Embarked  0.108669  0.043835 -0.118593 -0.035866 -0.060606 -0.079320  1.000000\n"
          ]
        }
      ]
    },
    {
      "cell_type": "code",
      "source": [
        "# we shall use the heatmap to visualize the correlation between the different variables\n",
        "plt.figure(figsize=(12,6))\n",
        "sns.heatmap(titan.corr(), annot=True)\n",
        "plt.title('The correlation between Titanic Features')\n",
        "plt.show()"
      ],
      "metadata": {
        "colab": {
          "base_uri": "https://localhost:8080/",
          "height": 390
        },
        "id": "Isucfda60H8R",
        "outputId": "4e37b69f-e8fa-470a-b222-81722703fa87"
      },
      "execution_count": 114,
      "outputs": [
        {
          "output_type": "display_data",
          "data": {
            "text/plain": [
              "<Figure size 864x432 with 2 Axes>"
            ],
            "image/png": "[encoded data removed]"
          },
          "metadata": {
            "needs_background": "light"
          }
        }
      ]
    },
    {
      "cell_type": "markdown",
      "source": [
        "From the output, it is clear that the correlation between the titanic features is good enough as none is near 5 which could affect our model performance."
      ],
      "metadata": {
        "id": "8G0K3rRv1MXr"
      }
    },
    {
      "cell_type": "markdown",
      "source": [
        "# 7. **Implementing** the Solution"
      ],
      "metadata": {
        "id": "BICX54N516pv"
      }
    },
    {
      "cell_type": "markdown",
      "source": [
        "Logistic Regression"
      ],
      "metadata": {
        "id": "Vk-YqJxj2O_h"
      }
    },
    {
      "cell_type": "code",
      "source": [
        "print(titan.isnull().sum())"
      ],
      "metadata": {
        "colab": {
          "base_uri": "https://localhost:8080/"
        },
        "id": "Dzbj_O9d7Pyo",
        "outputId": "c23d5831-b3c1-47f4-9da8-0450b1966959"
      },
      "execution_count": 115,
      "outputs": [
        {
          "output_type": "stream",
          "name": "stdout",
          "text": [
            "Survived    0\n",
            "Pclass      0\n",
            "Sex         0\n",
            "Age         0\n",
            "SibSp       0\n",
            "Parch       0\n",
            "Embarked    0\n",
            "dtype: int64\n"
          ]
        }
      ]
    },
    {
      "cell_type": "code",
      "source": [
        "# we shall create a baseline model that we shall use to compare to the model performance of the other models that we shall create.\n",
        "# we are going to logistic regression since our target variable 'survived' is in binary\n",
        "# let's import the libraries that we shall need\n",
        "\n",
        "from sklearn.model_selection import train_test_split\n",
        "from sklearn.preprocessing import StandardScaler\n",
        "from sklearn.linear_model import LogisticRegression\n",
        "from sklearn.metrics import accuracy_score, r2_score,mean_absolute_error, mean_squared_error\n"
      ],
      "metadata": {
        "id": "H1URebmh2Bv8"
      },
      "execution_count": 122,
      "outputs": []
    },
    {
      "cell_type": "code",
      "source": [
        "# we start by defining our X and y variables below:\n",
        "# X=independent variable and y=target variable\n",
        "#\n",
        "# \n",
        "X = titan.drop(columns = ['Survived'], axis=1)\n",
        "y = titan['Survived']\n",
        "# \n",
        "# Split data into train and test set\n",
        "\n",
        "X_train, X_test, y_train, y_test = train_test_split(X,y, test_size=0.20, random_state=0)\n",
        "# \n",
        "# we then standardize the X_train and the X_test to the same scale\n",
        "titanic = StandardScaler()\n",
        "# \n",
        "# now, we train our model using .fit_transform() method\n",
        "# \n",
        "X_train = titanic.fit_transform(X_train)\n",
        "X_test = titanic.transform(X_test)\n",
        "#\n",
        "# fit the model\n",
        "logmodel = LogisticRegression()\n",
        "logmodel.fit(X_train,y_train)\n",
        "# \n",
        "# Making predictions using the model above\n",
        "# \n",
        "pred = logmodel.predict(X_test)\n",
        "# \n",
        "# Getting the accuracy of our model\n",
        "print(\"The logistic Regression model is\", accuracy_score(y_test,pred))"
      ],
      "metadata": {
        "colab": {
          "base_uri": "https://localhost:8080/"
        },
        "id": "c6fdmj2x27Oz",
        "outputId": "76979478-8047-4da4-b7a7-5fb54a86835e"
      },
      "execution_count": 117,
      "outputs": [
        {
          "output_type": "stream",
          "name": "stdout",
          "text": [
            "The logistic Regression model is 0.7191011235955056\n"
          ]
        }
      ]
    },
    {
      "cell_type": "markdown",
      "source": [
        "Our baseline model has an accuracy score of 71.91% in making predictions. We shall use this accuracy score to compare to the models we create using KNearest Neighbors(KNN)"
      ],
      "metadata": {
        "id": "5xoC46zG-FUX"
      }
    },
    {
      "cell_type": "markdown",
      "source": [
        "# KNearest Neighbors Classifier"
      ],
      "metadata": {
        "id": "jSre46FP-ljj"
      }
    },
    {
      "cell_type": "markdown",
      "source": [
        "With KNN, we can classify new data points based on similarity measures"
      ],
      "metadata": {
        "id": "WU3zR4lc-y34"
      }
    },
    {
      "cell_type": "code",
      "source": [
        "# let's import the libraries we shall use here\n",
        "from sklearn.model_selection import train_test_split\n",
        "from sklearn.preprocessing import StandardScaler\n",
        "from sklearn.neighbors import KNeighborsClassifier\n",
        "from sklearn.metrics import classification_report, confusion_matrix"
      ],
      "metadata": {
        "id": "H3ygOFYw-lKM"
      },
      "execution_count": 123,
      "outputs": []
    },
    {
      "cell_type": "code",
      "source": [
        "# First, we split the dataset into attributes and labels where;\n",
        "# X= independent features and y= dependent feature\n",
        "# \n",
        "X = titan.iloc[:, 1:7 ].values\n",
        "y = titan.iloc[:, 0].values\n",
        "# \n",
        "# Second, Split data into train and test\n",
        "#\n",
        "X_train, X_test, y_train, y_test = train_test_split(X, y, test_size=0.20, random_state=42, stratify=y)\n",
        "# \n",
        "# Third, Feature Scaling before making any actual predictions so that all of them can be uniformly evaluated.\n",
        "# \n",
        "scaler = StandardScaler()\n",
        "scaler.fit(X_train)\n",
        "\n",
        "X_train = scaler.transform(X_train)\n",
        "X_test = scaler.transform(X_test)\n",
        "# Fourth, Fit the data\n",
        "# \n",
        "classifier = KNeighborsClassifier(n_neighbors=5)\n",
        "classifier.fit(X_train, y_train)"
      ],
      "metadata": {
        "colab": {
          "base_uri": "https://localhost:8080/"
        },
        "id": "ahRidIXO_Pwm",
        "outputId": "82a21868-acd7-413c-e8c8-da0cefc688f4"
      },
      "execution_count": 120,
      "outputs": [
        {
          "output_type": "execute_result",
          "data": {
            "text/plain": [
              "KNeighborsClassifier()"
            ]
          },
          "metadata": {},
          "execution_count": 120
        }
      ]
    },
    {
      "cell_type": "code",
      "source": [
        "# Making predictions \n",
        "# \n",
        "y_pred_Knn = classifier.predict(X_test)\n",
        "# \n",
        "# Evaluating the Algorithm\n",
        "print(confusion_matrix(y_test, y_pred_Knn))\n",
        "print(classification_report(y_test, y_pred_Knn))"
      ],
      "metadata": {
        "colab": {
          "base_uri": "https://localhost:8080/"
        },
        "id": "yZ7Oqz49Ah9F",
        "outputId": "31dd5f4b-5750-4d50-aa7b-7f73c9982111"
      },
      "execution_count": 124,
      "outputs": [
        {
          "output_type": "stream",
          "name": "stdout",
          "text": [
            "[[96 14]\n",
            " [22 46]]\n",
            "              precision    recall  f1-score   support\n",
            "\n",
            "           0       0.81      0.87      0.84       110\n",
            "           1       0.77      0.68      0.72        68\n",
            "\n",
            "    accuracy                           0.80       178\n",
            "   macro avg       0.79      0.77      0.78       178\n",
            "weighted avg       0.80      0.80      0.79       178\n",
            "\n"
          ]
        }
      ]
    },
    {
      "cell_type": "markdown",
      "source": [
        "The confusion matrix reveals that the model can make 142 predictions with 36 off, which is not bad.\n",
        "\n",
        "our KNN model is 80.0% accurate as compared to our regression baseline model which is 71.91%.\n",
        "\n",
        "We can assume that KNN is a better classifier as compared to Logistic Regression"
      ],
      "metadata": {
        "id": "FcL6AXcoBMCV"
      }
    },
    {
      "cell_type": "markdown",
      "source": [
        "# Performimg Linear Discriminant Analysis(LDA)"
      ],
      "metadata": {
        "id": "amLX8iYHB5ZA"
      }
    },
    {
      "cell_type": "markdown",
      "source": [
        "In machine learning, this technique is used in supervised classification to improve the performance of a model"
      ],
      "metadata": {
        "id": "YYD73jyiCLDs"
      }
    },
    {
      "cell_type": "code",
      "source": [
        "# libraries to be used\n",
        "from locale import normalize\n",
        "from sklearn.discriminant_analysis import LinearDiscriminantAnalysis as LDA\n",
        "from sklearn.ensemble import RandomForestClassifier\n",
        "from sklearn.metrics import confusion_matrix\n",
        "from sklearn.metrics import accuracy_score\n",
        "\n"
      ],
      "metadata": {
        "id": "pQahLpFYC9S5"
      },
      "execution_count": 127,
      "outputs": []
    },
    {
      "cell_type": "code",
      "source": [
        "# We first define the independent and dependent variable to be used \n",
        "\n",
        "D = titan.iloc[:, 1:7].values\n",
        "y = titan.iloc[:, 0].values\n",
        "# \n",
        "# We then divide the data to train and test\n",
        "\n",
        "X_train, X_test, y_train, y_test = train_test_split(D, y, test_size=0.2, random_state=0, stratify=y)\n",
        "\n",
        "# Performing feature scaling which is done on the independent variables to normalize the data to a particular range\n",
        "\n",
        "normalize = StandardScaler()\n",
        "X_train = normalize.fit_transform(X_train)\n",
        "X_test = normalize.transform(X_test)"
      ],
      "metadata": {
        "id": "CPs3LFioCcwC"
      },
      "execution_count": 128,
      "outputs": []
    },
    {
      "cell_type": "code",
      "source": [
        "# Then, perfom Linear Discriminant Analysis(LDA)\n",
        "lda = LDA(n_components=1)\n",
        "X_train = lda.fit_transform(X_train, y_train)\n",
        "X_test = lda.transform(X_test)\n",
        "# \n",
        "# we then train our model before Making Predictions\n",
        "# We will use the random forest classifier to evaluate the performance of a PCA-reduced algorithms as shown \n",
        "\n",
        "classifier = RandomForestClassifier(max_depth=2, random_state=0)\n",
        "classifier.fit(X_train, y_train)\n",
        "y_pred = classifier.predict(X_test)"
      ],
      "metadata": {
        "id": "5NAR3fRmC5_l"
      },
      "execution_count": 129,
      "outputs": []
    },
    {
      "cell_type": "code",
      "source": [
        "# Having import required libraries\n",
        "# we evaluate the performance\n",
        "# We evaluate our model by getting  a confusion matrix and finding the accuracy of the prediction.\n",
        "# \n",
        "\n",
        "conf_matrix = confusion_matrix(y_test, y_pred)\n",
        "print(conf_matrix )\n",
        "print('Accuracy' + str(accuracy_score(y_test, y_pred)))"
      ],
      "metadata": {
        "colab": {
          "base_uri": "https://localhost:8080/"
        },
        "id": "TCd2vcoaD4tN",
        "outputId": "9b757b33-be95-41c6-deb2-de0fafee9df1"
      },
      "execution_count": 130,
      "outputs": [
        {
          "output_type": "stream",
          "name": "stdout",
          "text": [
            "[[103   7]\n",
            " [ 20  48]]\n",
            "Accuracy0.848314606741573\n"
          ]
        }
      ]
    },
    {
      "cell_type": "markdown",
      "source": [
        "As per our output matrix, our model can do 151 correct predictions, with 27 off predictions\n",
        "\n",
        "However, our model has improved its accuracy to 84.8% which means it does well in making predictions as compared to our regression baseline model and also the KNN prediction"
      ],
      "metadata": {
        "id": "y8tI0KVMEIB9"
      }
    },
    {
      "cell_type": "markdown",
      "source": [
        "# 8. **CHALLENGING THE SOLUTION**"
      ],
      "metadata": {
        "id": "Q633efdcE0GL"
      }
    }
  ]
}